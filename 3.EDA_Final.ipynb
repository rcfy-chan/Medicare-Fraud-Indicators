{
 "cells": [
  {
   "cell_type": "code",
   "execution_count": 1,
   "id": "a162860f",
   "metadata": {},
   "outputs": [],
   "source": [
    "import pandas as pd\n",
    "import numpy as np\n",
    "import sweetviz as sv\n",
    "\n",
    "from sklearn.model_selection import train_test_split\n",
    "from sklearn.preprocessing import OneHotEncoder\n",
    "from sklearn.preprocessing import StandardScaler\n",
    "from sklearn.preprocessing import LabelEncoder\n",
    "\n",
    "from sklearn.feature_selection import chi2\n",
    "from sklearn.feature_selection import SelectKBest\n",
    "\n",
    "\n",
    "from sklearn.linear_model import LogisticRegression\n",
    "from sklearn.svm import SVC\n",
    "from sklearn.ensemble import RandomForestClassifier\n",
    "from statsmodels.stats.outliers_influence import variance_inflation_factor\n",
    "\n",
    "from sklearn.metrics import accuracy_score, classification_report\n",
    "from imblearn.over_sampling import SMOTE\n",
    "import matplotlib.pyplot as plt\n",
    "import seaborn as sns\n",
    "pd.set_option('display.max_columns', None)"
   ]
  },
  {
   "cell_type": "code",
   "execution_count": 2,
   "id": "c6726fb1",
   "metadata": {},
   "outputs": [
    {
     "name": "stderr",
     "output_type": "stream",
     "text": [
      "C:\\Users\\ronal\\AppData\\Local\\Temp\\ipykernel_8284\\1639747921.py:1: DtypeWarning: Columns (11,12,31) have mixed types. Specify dtype option on import or set low_memory=False.\n",
      "  df = pd.read_csv('merged.csv')\n"
     ]
    }
   ],
   "source": [
    "df = pd.read_csv('merged.csv')"
   ]
  },
  {
   "cell_type": "code",
   "execution_count": 3,
   "id": "f38f1cfa",
   "metadata": {},
   "outputs": [
    {
     "data": {
      "text/plain": [
       "(1123589, 34)"
      ]
     },
     "execution_count": 3,
     "metadata": {},
     "output_type": "execute_result"
    }
   ],
   "source": [
    "df.shape"
   ]
  },
  {
   "cell_type": "markdown",
   "id": "b97ca465",
   "metadata": {},
   "source": [
    "# First Sweetviz"
   ]
  },
  {
   "cell_type": "markdown",
   "id": "2fec9249",
   "metadata": {},
   "source": [
    "Change State_FIPS and Zip5 to str to run Sweetviz"
   ]
  },
  {
   "cell_type": "markdown",
   "id": "9916e47e",
   "metadata": {},
   "source": [
    "df['State_FIPS'] = df['State_FIPS'].astype(str)\n",
    "df['Zip5'] = df['Zip5'].astype(str)"
   ]
  },
  {
   "cell_type": "markdown",
   "id": "3bfa2a11",
   "metadata": {},
   "source": [
    "%%time\n",
    "report = sv.analyze(df, target_feat='eligibility')\n",
    "report.show_html('EDA_Report.html')"
   ]
  },
  {
   "cell_type": "code",
   "execution_count": 4,
   "id": "29e376fa",
   "metadata": {},
   "outputs": [
    {
     "data": {
      "text/plain": [
       "0    1114151\n",
       "1       9438\n",
       "Name: eligibility, dtype: int64"
      ]
     },
     "execution_count": 4,
     "metadata": {},
     "output_type": "execute_result"
    }
   ],
   "source": [
    "df['eligibility'].value_counts()"
   ]
  },
  {
   "cell_type": "code",
   "execution_count": 5,
   "id": "ae046dab",
   "metadata": {},
   "outputs": [
    {
     "data": {
      "text/plain": [
       "0    99.16\n",
       "1     0.84\n",
       "Name: eligibility, dtype: float64"
      ]
     },
     "execution_count": 5,
     "metadata": {},
     "output_type": "execute_result"
    }
   ],
   "source": [
    "df.eligibility.value_counts(normalize=True).mul(100).round(2)"
   ]
  },
  {
   "cell_type": "code",
   "execution_count": 6,
   "id": "6f8d0df7",
   "metadata": {},
   "outputs": [
    {
     "data": {
      "text/plain": [
       "(1123589, 34)"
      ]
     },
     "execution_count": 6,
     "metadata": {},
     "output_type": "execute_result"
    }
   ],
   "source": [
    "df.shape"
   ]
  },
  {
   "cell_type": "code",
   "execution_count": 7,
   "id": "965fec24",
   "metadata": {},
   "outputs": [
    {
     "data": {
      "text/plain": [
       "NPI                     int64\n",
       "Last_Org_Name          object\n",
       "First_Name             object\n",
       "MI                     object\n",
       "Crdntls                object\n",
       "Gndr                   object\n",
       "Ent_Cd                 object\n",
       "St1                    object\n",
       "St2                    object\n",
       "City                   object\n",
       "State_Abrvtn           object\n",
       "State_FIPS             object\n",
       "Zip5                   object\n",
       "RUCA                  float64\n",
       "RUCA_Desc              object\n",
       "Cntry                  object\n",
       "Type                   object\n",
       "Mdcr_Prtcptg_Ind       object\n",
       "HCPCS_Cd               object\n",
       "HCPCS_Desc             object\n",
       "HCPCS_Drug_Ind         object\n",
       "Place_Of_Srvc          object\n",
       "Tot_Benes               int64\n",
       "Tot_Srvcs             float64\n",
       "Tot_Bene_Day_Srvcs      int64\n",
       "Avg_Sbmtd_Chrg        float64\n",
       "Avg_Mdcr_Alowd_Amt    float64\n",
       "Avg_Mdcr_Pymt_Amt     float64\n",
       "Avg_Mdcr_Stdzd_Amt    float64\n",
       "fraud                   int64\n",
       "partb_n                 int64\n",
       "EXCLTYPE               object\n",
       "EXCLDATE              float64\n",
       "eligibility             int64\n",
       "dtype: object"
      ]
     },
     "execution_count": 7,
     "metadata": {},
     "output_type": "execute_result"
    }
   ],
   "source": [
    "df.dtypes"
   ]
  },
  {
   "cell_type": "code",
   "execution_count": 8,
   "id": "da08cf0c",
   "metadata": {},
   "outputs": [
    {
     "data": {
      "text/plain": [
       "(1123589, 34)"
      ]
     },
     "execution_count": 8,
     "metadata": {},
     "output_type": "execute_result"
    }
   ],
   "source": [
    "df.shape"
   ]
  },
  {
   "cell_type": "markdown",
   "id": "aaac269e",
   "metadata": {},
   "source": [
    "## Removing null values"
   ]
  },
  {
   "cell_type": "code",
   "execution_count": 9,
   "id": "3cf5c8a0",
   "metadata": {},
   "outputs": [
    {
     "data": {
      "text/plain": [
       "NPI                         0\n",
       "Last_Org_Name               0\n",
       "First_Name              64187\n",
       "MI                     405734\n",
       "Crdntls                139077\n",
       "Gndr                    64187\n",
       "Ent_Cd                      0\n",
       "St1                         0\n",
       "St2                    839121\n",
       "City                        0\n",
       "State_Abrvtn                0\n",
       "State_FIPS                  0\n",
       "Zip5                        1\n",
       "RUCA                      703\n",
       "RUCA_Desc                 703\n",
       "Cntry                       0\n",
       "Type                        0\n",
       "Mdcr_Prtcptg_Ind            0\n",
       "HCPCS_Cd                    0\n",
       "HCPCS_Desc                  0\n",
       "HCPCS_Drug_Ind              0\n",
       "Place_Of_Srvc               0\n",
       "Tot_Benes                   0\n",
       "Tot_Srvcs                   0\n",
       "Tot_Bene_Day_Srvcs          0\n",
       "Avg_Sbmtd_Chrg              0\n",
       "Avg_Mdcr_Alowd_Amt          0\n",
       "Avg_Mdcr_Pymt_Amt           0\n",
       "Avg_Mdcr_Stdzd_Amt          0\n",
       "fraud                       0\n",
       "partb_n                     0\n",
       "EXCLTYPE              1123480\n",
       "EXCLDATE              1123480\n",
       "eligibility                 0\n",
       "dtype: int64"
      ]
     },
     "execution_count": 9,
     "metadata": {},
     "output_type": "execute_result"
    }
   ],
   "source": [
    "df.isna().sum()"
   ]
  },
  {
   "cell_type": "markdown",
   "id": "b5767554",
   "metadata": {},
   "source": [
    "### Gender"
   ]
  },
  {
   "cell_type": "code",
   "execution_count": 10,
   "id": "8e89b844",
   "metadata": {},
   "outputs": [
    {
     "data": {
      "text/html": [
       "<div>\n",
       "<style scoped>\n",
       "    .dataframe tbody tr th:only-of-type {\n",
       "        vertical-align: middle;\n",
       "    }\n",
       "\n",
       "    .dataframe tbody tr th {\n",
       "        vertical-align: top;\n",
       "    }\n",
       "\n",
       "    .dataframe thead th {\n",
       "        text-align: right;\n",
       "    }\n",
       "</style>\n",
       "<table border=\"1\" class=\"dataframe\">\n",
       "  <thead>\n",
       "    <tr style=\"text-align: right;\">\n",
       "      <th></th>\n",
       "      <th>NPI</th>\n",
       "      <th>Last_Org_Name</th>\n",
       "      <th>First_Name</th>\n",
       "      <th>MI</th>\n",
       "      <th>Crdntls</th>\n",
       "      <th>Gndr</th>\n",
       "      <th>Ent_Cd</th>\n",
       "      <th>St1</th>\n",
       "      <th>St2</th>\n",
       "      <th>City</th>\n",
       "      <th>State_Abrvtn</th>\n",
       "      <th>State_FIPS</th>\n",
       "      <th>Zip5</th>\n",
       "      <th>RUCA</th>\n",
       "      <th>RUCA_Desc</th>\n",
       "      <th>Cntry</th>\n",
       "      <th>Type</th>\n",
       "      <th>Mdcr_Prtcptg_Ind</th>\n",
       "      <th>HCPCS_Cd</th>\n",
       "      <th>HCPCS_Desc</th>\n",
       "      <th>HCPCS_Drug_Ind</th>\n",
       "      <th>Place_Of_Srvc</th>\n",
       "      <th>Tot_Benes</th>\n",
       "      <th>Tot_Srvcs</th>\n",
       "      <th>Tot_Bene_Day_Srvcs</th>\n",
       "      <th>Avg_Sbmtd_Chrg</th>\n",
       "      <th>Avg_Mdcr_Alowd_Amt</th>\n",
       "      <th>Avg_Mdcr_Pymt_Amt</th>\n",
       "      <th>Avg_Mdcr_Stdzd_Amt</th>\n",
       "      <th>fraud</th>\n",
       "      <th>partb_n</th>\n",
       "      <th>EXCLTYPE</th>\n",
       "      <th>EXCLDATE</th>\n",
       "      <th>eligibility</th>\n",
       "    </tr>\n",
       "  </thead>\n",
       "  <tbody>\n",
       "    <tr>\n",
       "      <th>19</th>\n",
       "      <td>1003001322</td>\n",
       "      <td>Nodaway County Health Center</td>\n",
       "      <td>NaN</td>\n",
       "      <td>NaN</td>\n",
       "      <td>NaN</td>\n",
       "      <td>NaN</td>\n",
       "      <td>O</td>\n",
       "      <td>515 N Main St</td>\n",
       "      <td>NaN</td>\n",
       "      <td>Maryville</td>\n",
       "      <td>MO</td>\n",
       "      <td>29</td>\n",
       "      <td>64468</td>\n",
       "      <td>4.0</td>\n",
       "      <td>Micropolitan area core: primary flow within an...</td>\n",
       "      <td>US</td>\n",
       "      <td>Mass Immunizer Roster Biller</td>\n",
       "      <td>Y</td>\n",
       "      <td>90662, G0008</td>\n",
       "      <td>Vaccine for influenza for injection into muscl...</td>\n",
       "      <td>Y, N</td>\n",
       "      <td>O</td>\n",
       "      <td>259</td>\n",
       "      <td>259.0</td>\n",
       "      <td>259</td>\n",
       "      <td>51.756757</td>\n",
       "      <td>39.676757</td>\n",
       "      <td>39.676757</td>\n",
       "      <td>39.717297</td>\n",
       "      <td>0</td>\n",
       "      <td>0</td>\n",
       "      <td>NaN</td>\n",
       "      <td>NaN</td>\n",
       "      <td>0</td>\n",
       "    </tr>\n",
       "    <tr>\n",
       "      <th>32</th>\n",
       "      <td>1003002254</td>\n",
       "      <td>Walgreen Co.</td>\n",
       "      <td>NaN</td>\n",
       "      <td>NaN</td>\n",
       "      <td>NaN</td>\n",
       "      <td>NaN</td>\n",
       "      <td>O</td>\n",
       "      <td>5104 Bobby Hicks Hwy</td>\n",
       "      <td>NaN</td>\n",
       "      <td>Gray</td>\n",
       "      <td>TN</td>\n",
       "      <td>47</td>\n",
       "      <td>37615</td>\n",
       "      <td>1.0</td>\n",
       "      <td>Metropolitan area core: primary flow within an...</td>\n",
       "      <td>US</td>\n",
       "      <td>Centralized Flu</td>\n",
       "      <td>Y</td>\n",
       "      <td>0001A, 0002A, 0011A, 0012A, 0013A, 0064A, 9066...</td>\n",
       "      <td>Adm sarscov2 30mcg/0.3ml 1st, Adm sarscov2 30m...</td>\n",
       "      <td>N, Y</td>\n",
       "      <td>O</td>\n",
       "      <td>996</td>\n",
       "      <td>996.0</td>\n",
       "      <td>996</td>\n",
       "      <td>69.103574</td>\n",
       "      <td>36.739719</td>\n",
       "      <td>36.739719</td>\n",
       "      <td>38.283042</td>\n",
       "      <td>0</td>\n",
       "      <td>0</td>\n",
       "      <td>NaN</td>\n",
       "      <td>NaN</td>\n",
       "      <td>0</td>\n",
       "    </tr>\n",
       "    <tr>\n",
       "      <th>58</th>\n",
       "      <td>1003004904</td>\n",
       "      <td>Texas Road Old Bridge Llc</td>\n",
       "      <td>NaN</td>\n",
       "      <td>NaN</td>\n",
       "      <td>NaN</td>\n",
       "      <td>NaN</td>\n",
       "      <td>O</td>\n",
       "      <td>1183 Englishtown Rd</td>\n",
       "      <td>NaN</td>\n",
       "      <td>Old Bridge</td>\n",
       "      <td>NJ</td>\n",
       "      <td>34</td>\n",
       "      <td>8857</td>\n",
       "      <td>1.0</td>\n",
       "      <td>Metropolitan area core: primary flow within an...</td>\n",
       "      <td>US</td>\n",
       "      <td>Pharmacy</td>\n",
       "      <td>Y</td>\n",
       "      <td>0011A, 0012A, 0013A, 0031A</td>\n",
       "      <td>Adm sarscov2 100mcg/0.5ml1st, Adm sarscov2 100...</td>\n",
       "      <td>N</td>\n",
       "      <td>O</td>\n",
       "      <td>106</td>\n",
       "      <td>111.0</td>\n",
       "      <td>111</td>\n",
       "      <td>55.181712</td>\n",
       "      <td>43.652072</td>\n",
       "      <td>43.652072</td>\n",
       "      <td>39.200000</td>\n",
       "      <td>0</td>\n",
       "      <td>0</td>\n",
       "      <td>NaN</td>\n",
       "      <td>NaN</td>\n",
       "      <td>0</td>\n",
       "    </tr>\n",
       "    <tr>\n",
       "      <th>59</th>\n",
       "      <td>1003004938</td>\n",
       "      <td>Cvs State Capital, L.L.C.</td>\n",
       "      <td>NaN</td>\n",
       "      <td>NaN</td>\n",
       "      <td>NaN</td>\n",
       "      <td>NaN</td>\n",
       "      <td>O</td>\n",
       "      <td>446 Sabattus St</td>\n",
       "      <td>NaN</td>\n",
       "      <td>Lewiston</td>\n",
       "      <td>ME</td>\n",
       "      <td>23</td>\n",
       "      <td>4240</td>\n",
       "      <td>1.0</td>\n",
       "      <td>Metropolitan area core: primary flow within an...</td>\n",
       "      <td>US</td>\n",
       "      <td>Mass Immunizer Roster Biller</td>\n",
       "      <td>Y</td>\n",
       "      <td>0001A, 0002A, 0003A, 0004A, 0031A, 90662, 9068...</td>\n",
       "      <td>Adm sarscov2 30mcg/0.3ml 1st, Adm sarscov2 30m...</td>\n",
       "      <td>N, Y</td>\n",
       "      <td>O</td>\n",
       "      <td>867</td>\n",
       "      <td>867.0</td>\n",
       "      <td>867</td>\n",
       "      <td>46.380069</td>\n",
       "      <td>37.812364</td>\n",
       "      <td>37.812364</td>\n",
       "      <td>39.300992</td>\n",
       "      <td>0</td>\n",
       "      <td>0</td>\n",
       "      <td>NaN</td>\n",
       "      <td>NaN</td>\n",
       "      <td>0</td>\n",
       "    </tr>\n",
       "    <tr>\n",
       "      <th>60</th>\n",
       "      <td>1003005059</td>\n",
       "      <td>Torrington Area Health District</td>\n",
       "      <td>NaN</td>\n",
       "      <td>NaN</td>\n",
       "      <td>NaN</td>\n",
       "      <td>NaN</td>\n",
       "      <td>O</td>\n",
       "      <td>350 Main St Ste A</td>\n",
       "      <td>NaN</td>\n",
       "      <td>Torrington</td>\n",
       "      <td>CT</td>\n",
       "      <td>09</td>\n",
       "      <td>6790</td>\n",
       "      <td>4.0</td>\n",
       "      <td>Micropolitan area core: primary flow within an...</td>\n",
       "      <td>US</td>\n",
       "      <td>Mass Immunizer Roster Biller</td>\n",
       "      <td>Y</td>\n",
       "      <td>0011A, 0031A, 0064A, 90662, G0008</td>\n",
       "      <td>Adm sarscov2 100mcg/0.5ml1st, Adm sarscov2 vac...</td>\n",
       "      <td>N, Y</td>\n",
       "      <td>O</td>\n",
       "      <td>1372</td>\n",
       "      <td>1946.0</td>\n",
       "      <td>1946</td>\n",
       "      <td>27.950797</td>\n",
       "      <td>26.658335</td>\n",
       "      <td>26.658335</td>\n",
       "      <td>27.733289</td>\n",
       "      <td>0</td>\n",
       "      <td>0</td>\n",
       "      <td>NaN</td>\n",
       "      <td>NaN</td>\n",
       "      <td>0</td>\n",
       "    </tr>\n",
       "  </tbody>\n",
       "</table>\n",
       "</div>"
      ],
      "text/plain": [
       "           NPI                    Last_Org_Name First_Name   MI Crdntls Gndr  \\\n",
       "19  1003001322     Nodaway County Health Center        NaN  NaN     NaN  NaN   \n",
       "32  1003002254                     Walgreen Co.        NaN  NaN     NaN  NaN   \n",
       "58  1003004904        Texas Road Old Bridge Llc        NaN  NaN     NaN  NaN   \n",
       "59  1003004938        Cvs State Capital, L.L.C.        NaN  NaN     NaN  NaN   \n",
       "60  1003005059  Torrington Area Health District        NaN  NaN     NaN  NaN   \n",
       "\n",
       "   Ent_Cd                   St1  St2        City State_Abrvtn State_FIPS  \\\n",
       "19      O         515 N Main St  NaN   Maryville           MO         29   \n",
       "32      O  5104 Bobby Hicks Hwy  NaN        Gray           TN         47   \n",
       "58      O   1183 Englishtown Rd  NaN  Old Bridge           NJ         34   \n",
       "59      O       446 Sabattus St  NaN    Lewiston           ME         23   \n",
       "60      O     350 Main St Ste A  NaN  Torrington           CT         09   \n",
       "\n",
       "     Zip5  RUCA                                          RUCA_Desc Cntry  \\\n",
       "19  64468   4.0  Micropolitan area core: primary flow within an...    US   \n",
       "32  37615   1.0  Metropolitan area core: primary flow within an...    US   \n",
       "58   8857   1.0  Metropolitan area core: primary flow within an...    US   \n",
       "59   4240   1.0  Metropolitan area core: primary flow within an...    US   \n",
       "60   6790   4.0  Micropolitan area core: primary flow within an...    US   \n",
       "\n",
       "                            Type Mdcr_Prtcptg_Ind  \\\n",
       "19  Mass Immunizer Roster Biller                Y   \n",
       "32               Centralized Flu                Y   \n",
       "58                      Pharmacy                Y   \n",
       "59  Mass Immunizer Roster Biller                Y   \n",
       "60  Mass Immunizer Roster Biller                Y   \n",
       "\n",
       "                                             HCPCS_Cd  \\\n",
       "19                                       90662, G0008   \n",
       "32  0001A, 0002A, 0011A, 0012A, 0013A, 0064A, 9066...   \n",
       "58                         0011A, 0012A, 0013A, 0031A   \n",
       "59  0001A, 0002A, 0003A, 0004A, 0031A, 90662, 9068...   \n",
       "60                  0011A, 0031A, 0064A, 90662, G0008   \n",
       "\n",
       "                                           HCPCS_Desc HCPCS_Drug_Ind  \\\n",
       "19  Vaccine for influenza for injection into muscl...           Y, N   \n",
       "32  Adm sarscov2 30mcg/0.3ml 1st, Adm sarscov2 30m...           N, Y   \n",
       "58  Adm sarscov2 100mcg/0.5ml1st, Adm sarscov2 100...              N   \n",
       "59  Adm sarscov2 30mcg/0.3ml 1st, Adm sarscov2 30m...           N, Y   \n",
       "60  Adm sarscov2 100mcg/0.5ml1st, Adm sarscov2 vac...           N, Y   \n",
       "\n",
       "   Place_Of_Srvc  Tot_Benes  Tot_Srvcs  Tot_Bene_Day_Srvcs  Avg_Sbmtd_Chrg  \\\n",
       "19             O        259      259.0                 259       51.756757   \n",
       "32             O        996      996.0                 996       69.103574   \n",
       "58             O        106      111.0                 111       55.181712   \n",
       "59             O        867      867.0                 867       46.380069   \n",
       "60             O       1372     1946.0                1946       27.950797   \n",
       "\n",
       "    Avg_Mdcr_Alowd_Amt  Avg_Mdcr_Pymt_Amt  Avg_Mdcr_Stdzd_Amt  fraud  partb_n  \\\n",
       "19           39.676757          39.676757           39.717297      0        0   \n",
       "32           36.739719          36.739719           38.283042      0        0   \n",
       "58           43.652072          43.652072           39.200000      0        0   \n",
       "59           37.812364          37.812364           39.300992      0        0   \n",
       "60           26.658335          26.658335           27.733289      0        0   \n",
       "\n",
       "   EXCLTYPE  EXCLDATE  eligibility  \n",
       "19      NaN       NaN            0  \n",
       "32      NaN       NaN            0  \n",
       "58      NaN       NaN            0  \n",
       "59      NaN       NaN            0  \n",
       "60      NaN       NaN            0  "
      ]
     },
     "execution_count": 10,
     "metadata": {},
     "output_type": "execute_result"
    }
   ],
   "source": [
    "df[df.Gndr.isna()].head()"
   ]
  },
  {
   "cell_type": "code",
   "execution_count": 11,
   "id": "b0169358",
   "metadata": {},
   "outputs": [
    {
     "data": {
      "text/plain": [
       "64187"
      ]
     },
     "execution_count": 11,
     "metadata": {},
     "output_type": "execute_result"
    }
   ],
   "source": [
    "len(df[(df.Gndr.isna()) & (df.Ent_Cd == 'O')])"
   ]
  },
  {
   "cell_type": "markdown",
   "id": "7f2aa971",
   "metadata": {},
   "source": [
    "All null values for gender are related to Organization. "
   ]
  },
  {
   "cell_type": "code",
   "execution_count": 12,
   "id": "789dfa07",
   "metadata": {},
   "outputs": [],
   "source": [
    "df.loc[df['Ent_Cd'] == 'O', ['Crdntls', 'Gndr']] = 'O'"
   ]
  },
  {
   "cell_type": "markdown",
   "id": "96ee5d1f",
   "metadata": {},
   "source": [
    "### Credentials"
   ]
  },
  {
   "cell_type": "code",
   "execution_count": 13,
   "id": "ae2bffb7",
   "metadata": {},
   "outputs": [
    {
     "data": {
      "text/plain": [
       "74890"
      ]
     },
     "execution_count": 13,
     "metadata": {},
     "output_type": "execute_result"
    }
   ],
   "source": [
    "df[(~df.Crdntls.notna()) & (df.Ent_Cd != 'O')].shape[0]"
   ]
  },
  {
   "cell_type": "code",
   "execution_count": 14,
   "id": "550f6c96",
   "metadata": {},
   "outputs": [
    {
     "data": {
      "text/plain": [
       "74890"
      ]
     },
     "execution_count": 14,
     "metadata": {},
     "output_type": "execute_result"
    }
   ],
   "source": [
    "df[(~df.Crdntls.notna()) & (df.Ent_Cd == 'I')].shape[0]"
   ]
  },
  {
   "cell_type": "markdown",
   "id": "50822f86",
   "metadata": {},
   "source": [
    "All blanks remaining Crdntls blanks are Individuals"
   ]
  },
  {
   "cell_type": "code",
   "execution_count": 15,
   "id": "845edf4d",
   "metadata": {},
   "outputs": [],
   "source": [
    "df.Crdntls.fillna('I', inplace = True)"
   ]
  },
  {
   "cell_type": "markdown",
   "id": "4718ce6a",
   "metadata": {},
   "source": [
    "### RUCA"
   ]
  },
  {
   "cell_type": "code",
   "execution_count": 16,
   "id": "a0b4e752",
   "metadata": {
    "scrolled": true
   },
   "outputs": [
    {
     "data": {
      "text/html": [
       "<div>\n",
       "<style scoped>\n",
       "    .dataframe tbody tr th:only-of-type {\n",
       "        vertical-align: middle;\n",
       "    }\n",
       "\n",
       "    .dataframe tbody tr th {\n",
       "        vertical-align: top;\n",
       "    }\n",
       "\n",
       "    .dataframe thead th {\n",
       "        text-align: right;\n",
       "    }\n",
       "</style>\n",
       "<table border=\"1\" class=\"dataframe\">\n",
       "  <thead>\n",
       "    <tr style=\"text-align: right;\">\n",
       "      <th></th>\n",
       "      <th>NPI</th>\n",
       "      <th>Last_Org_Name</th>\n",
       "      <th>First_Name</th>\n",
       "      <th>MI</th>\n",
       "      <th>Crdntls</th>\n",
       "      <th>Gndr</th>\n",
       "      <th>Ent_Cd</th>\n",
       "      <th>St1</th>\n",
       "      <th>St2</th>\n",
       "      <th>City</th>\n",
       "      <th>State_Abrvtn</th>\n",
       "      <th>State_FIPS</th>\n",
       "      <th>Zip5</th>\n",
       "      <th>RUCA</th>\n",
       "      <th>RUCA_Desc</th>\n",
       "      <th>Cntry</th>\n",
       "      <th>Type</th>\n",
       "      <th>Mdcr_Prtcptg_Ind</th>\n",
       "      <th>HCPCS_Cd</th>\n",
       "      <th>HCPCS_Desc</th>\n",
       "      <th>HCPCS_Drug_Ind</th>\n",
       "      <th>Place_Of_Srvc</th>\n",
       "      <th>Tot_Benes</th>\n",
       "      <th>Tot_Srvcs</th>\n",
       "      <th>Tot_Bene_Day_Srvcs</th>\n",
       "      <th>Avg_Sbmtd_Chrg</th>\n",
       "      <th>Avg_Mdcr_Alowd_Amt</th>\n",
       "      <th>Avg_Mdcr_Pymt_Amt</th>\n",
       "      <th>Avg_Mdcr_Stdzd_Amt</th>\n",
       "      <th>fraud</th>\n",
       "      <th>partb_n</th>\n",
       "      <th>EXCLTYPE</th>\n",
       "      <th>EXCLDATE</th>\n",
       "      <th>eligibility</th>\n",
       "    </tr>\n",
       "  </thead>\n",
       "  <tbody>\n",
       "    <tr>\n",
       "      <th>256</th>\n",
       "      <td>1003015652</td>\n",
       "      <td>Dehqanzada</td>\n",
       "      <td>Zia</td>\n",
       "      <td>A</td>\n",
       "      <td>M.D.</td>\n",
       "      <td>M</td>\n",
       "      <td>I</td>\n",
       "      <td>Cmr 442</td>\n",
       "      <td>Box 291</td>\n",
       "      <td>Apo</td>\n",
       "      <td>AE</td>\n",
       "      <td>9B</td>\n",
       "      <td>9042</td>\n",
       "      <td>NaN</td>\n",
       "      <td>NaN</td>\n",
       "      <td>US</td>\n",
       "      <td>General Surgery</td>\n",
       "      <td>Y</td>\n",
       "      <td>47562, 47563, 99222, 99223, 99231, 99232</td>\n",
       "      <td>Removal of gallbladder using an endoscope, Rem...</td>\n",
       "      <td>N</td>\n",
       "      <td>F</td>\n",
       "      <td>294</td>\n",
       "      <td>334.0</td>\n",
       "      <td>334</td>\n",
       "      <td>400.910180</td>\n",
       "      <td>162.246347</td>\n",
       "      <td>128.874162</td>\n",
       "      <td>122.291257</td>\n",
       "      <td>0</td>\n",
       "      <td>0</td>\n",
       "      <td>NaN</td>\n",
       "      <td>NaN</td>\n",
       "      <td>0</td>\n",
       "    </tr>\n",
       "    <tr>\n",
       "      <th>10669</th>\n",
       "      <td>1003962614</td>\n",
       "      <td>Friedman</td>\n",
       "      <td>Kevin</td>\n",
       "      <td>NaN</td>\n",
       "      <td>MD</td>\n",
       "      <td>M</td>\n",
       "      <td>I</td>\n",
       "      <td>University Of Colorado School Of Medicine</td>\n",
       "      <td>NaN</td>\n",
       "      <td>Denver</td>\n",
       "      <td>CO</td>\n",
       "      <td>8</td>\n",
       "      <td>80262</td>\n",
       "      <td>NaN</td>\n",
       "      <td>NaN</td>\n",
       "      <td>US</td>\n",
       "      <td>Pediatric Medicine</td>\n",
       "      <td>Y</td>\n",
       "      <td>93303, 93320, 93325</td>\n",
       "      <td>Ultrasound examination of congenital heart def...</td>\n",
       "      <td>N</td>\n",
       "      <td>F</td>\n",
       "      <td>46</td>\n",
       "      <td>49.0</td>\n",
       "      <td>49</td>\n",
       "      <td>200.673469</td>\n",
       "      <td>29.826122</td>\n",
       "      <td>20.886939</td>\n",
       "      <td>18.730204</td>\n",
       "      <td>0</td>\n",
       "      <td>0</td>\n",
       "      <td>NaN</td>\n",
       "      <td>NaN</td>\n",
       "      <td>0</td>\n",
       "    </tr>\n",
       "    <tr>\n",
       "      <th>10748</th>\n",
       "      <td>1003967290</td>\n",
       "      <td>Patel</td>\n",
       "      <td>Paresh</td>\n",
       "      <td>R</td>\n",
       "      <td>MD</td>\n",
       "      <td>M</td>\n",
       "      <td>I</td>\n",
       "      <td>Walter Reed Army Medical Ctr</td>\n",
       "      <td>6900 Georgia Ave</td>\n",
       "      <td>Washington</td>\n",
       "      <td>DC</td>\n",
       "      <td>11</td>\n",
       "      <td>20307</td>\n",
       "      <td>NaN</td>\n",
       "      <td>NaN</td>\n",
       "      <td>US</td>\n",
       "      <td>Emergency Medicine</td>\n",
       "      <td>Y</td>\n",
       "      <td>93010, 99285, 99291</td>\n",
       "      <td>Routine electrocardiogram (ekg) using at least...</td>\n",
       "      <td>N</td>\n",
       "      <td>F</td>\n",
       "      <td>119</td>\n",
       "      <td>122.0</td>\n",
       "      <td>120</td>\n",
       "      <td>1172.974603</td>\n",
       "      <td>122.846833</td>\n",
       "      <td>102.297522</td>\n",
       "      <td>98.511289</td>\n",
       "      <td>0</td>\n",
       "      <td>0</td>\n",
       "      <td>NaN</td>\n",
       "      <td>NaN</td>\n",
       "      <td>0</td>\n",
       "    </tr>\n",
       "    <tr>\n",
       "      <th>11899</th>\n",
       "      <td>1013025915</td>\n",
       "      <td>Lee</td>\n",
       "      <td>Yong</td>\n",
       "      <td>L</td>\n",
       "      <td>MD</td>\n",
       "      <td>M</td>\n",
       "      <td>I</td>\n",
       "      <td>888 Tianlin Lu, Building 1e,</td>\n",
       "      <td>NaN</td>\n",
       "      <td>Shanghai</td>\n",
       "      <td>ZZ</td>\n",
       "      <td>9E</td>\n",
       "      <td>20023</td>\n",
       "      <td>NaN</td>\n",
       "      <td>NaN</td>\n",
       "      <td>CN</td>\n",
       "      <td>Family Practice</td>\n",
       "      <td>Y</td>\n",
       "      <td>20610, 90686, 90694, 90732, 99203, 99213, 9921...</td>\n",
       "      <td>Aspiration and/or injection of large joint or ...</td>\n",
       "      <td>N, Y</td>\n",
       "      <td>O</td>\n",
       "      <td>471</td>\n",
       "      <td>659.0</td>\n",
       "      <td>569</td>\n",
       "      <td>217.179491</td>\n",
       "      <td>89.491857</td>\n",
       "      <td>59.565353</td>\n",
       "      <td>54.661231</td>\n",
       "      <td>0</td>\n",
       "      <td>0</td>\n",
       "      <td>NaN</td>\n",
       "      <td>NaN</td>\n",
       "      <td>0</td>\n",
       "    </tr>\n",
       "    <tr>\n",
       "      <th>12195</th>\n",
       "      <td>1013049014</td>\n",
       "      <td>Mcfarland</td>\n",
       "      <td>Timothy</td>\n",
       "      <td>G</td>\n",
       "      <td>DC</td>\n",
       "      <td>M</td>\n",
       "      <td>I</td>\n",
       "      <td>43553 W Askew Dr</td>\n",
       "      <td>NaN</td>\n",
       "      <td>Maricopa</td>\n",
       "      <td>AZ</td>\n",
       "      <td>04</td>\n",
       "      <td>85238</td>\n",
       "      <td>NaN</td>\n",
       "      <td>NaN</td>\n",
       "      <td>US</td>\n",
       "      <td>Chiropractic</td>\n",
       "      <td>Y</td>\n",
       "      <td>98941</td>\n",
       "      <td>Chiropractic manipulative treatment, 3 to 4 sp...</td>\n",
       "      <td>N</td>\n",
       "      <td>O</td>\n",
       "      <td>25</td>\n",
       "      <td>388.0</td>\n",
       "      <td>388</td>\n",
       "      <td>50.000000</td>\n",
       "      <td>39.670000</td>\n",
       "      <td>28.121392</td>\n",
       "      <td>28.210928</td>\n",
       "      <td>0</td>\n",
       "      <td>0</td>\n",
       "      <td>NaN</td>\n",
       "      <td>NaN</td>\n",
       "      <td>0</td>\n",
       "    </tr>\n",
       "    <tr>\n",
       "      <th>...</th>\n",
       "      <td>...</td>\n",
       "      <td>...</td>\n",
       "      <td>...</td>\n",
       "      <td>...</td>\n",
       "      <td>...</td>\n",
       "      <td>...</td>\n",
       "      <td>...</td>\n",
       "      <td>...</td>\n",
       "      <td>...</td>\n",
       "      <td>...</td>\n",
       "      <td>...</td>\n",
       "      <td>...</td>\n",
       "      <td>...</td>\n",
       "      <td>...</td>\n",
       "      <td>...</td>\n",
       "      <td>...</td>\n",
       "      <td>...</td>\n",
       "      <td>...</td>\n",
       "      <td>...</td>\n",
       "      <td>...</td>\n",
       "      <td>...</td>\n",
       "      <td>...</td>\n",
       "      <td>...</td>\n",
       "      <td>...</td>\n",
       "      <td>...</td>\n",
       "      <td>...</td>\n",
       "      <td>...</td>\n",
       "      <td>...</td>\n",
       "      <td>...</td>\n",
       "      <td>...</td>\n",
       "      <td>...</td>\n",
       "      <td>...</td>\n",
       "      <td>...</td>\n",
       "      <td>...</td>\n",
       "    </tr>\n",
       "    <tr>\n",
       "      <th>1112750</th>\n",
       "      <td>1992035307</td>\n",
       "      <td>Tarrillion</td>\n",
       "      <td>Zach</td>\n",
       "      <td>A</td>\n",
       "      <td>D.P.T</td>\n",
       "      <td>M</td>\n",
       "      <td>I</td>\n",
       "      <td>Psc 482</td>\n",
       "      <td>Box 3052</td>\n",
       "      <td>Fpo</td>\n",
       "      <td>AP</td>\n",
       "      <td>9C</td>\n",
       "      <td>96362</td>\n",
       "      <td>NaN</td>\n",
       "      <td>NaN</td>\n",
       "      <td>US</td>\n",
       "      <td>Physical Therapist in Private Practice</td>\n",
       "      <td>Y</td>\n",
       "      <td>97110</td>\n",
       "      <td>Therapeutic exercise to develop strength, endu...</td>\n",
       "      <td>N</td>\n",
       "      <td>O</td>\n",
       "      <td>12</td>\n",
       "      <td>64.0</td>\n",
       "      <td>43</td>\n",
       "      <td>50.000000</td>\n",
       "      <td>29.023750</td>\n",
       "      <td>22.903281</td>\n",
       "      <td>20.604063</td>\n",
       "      <td>0</td>\n",
       "      <td>0</td>\n",
       "      <td>NaN</td>\n",
       "      <td>NaN</td>\n",
       "      <td>0</td>\n",
       "    </tr>\n",
       "    <tr>\n",
       "      <th>1115074</th>\n",
       "      <td>1992191613</td>\n",
       "      <td>Hullett</td>\n",
       "      <td>Patrick</td>\n",
       "      <td>NaN</td>\n",
       "      <td>M.D.</td>\n",
       "      <td>M</td>\n",
       "      <td>I</td>\n",
       "      <td>505 Parnassus Avenue</td>\n",
       "      <td>NaN</td>\n",
       "      <td>San Francisco</td>\n",
       "      <td>CA</td>\n",
       "      <td>6</td>\n",
       "      <td>93143</td>\n",
       "      <td>NaN</td>\n",
       "      <td>NaN</td>\n",
       "      <td>US</td>\n",
       "      <td>Neurology</td>\n",
       "      <td>Y</td>\n",
       "      <td>95718</td>\n",
       "      <td>Continuous measurement of brain wave activity ...</td>\n",
       "      <td>N</td>\n",
       "      <td>F</td>\n",
       "      <td>12</td>\n",
       "      <td>16.0</td>\n",
       "      <td>16</td>\n",
       "      <td>706.000000</td>\n",
       "      <td>151.870000</td>\n",
       "      <td>121.500000</td>\n",
       "      <td>106.150000</td>\n",
       "      <td>0</td>\n",
       "      <td>0</td>\n",
       "      <td>NaN</td>\n",
       "      <td>NaN</td>\n",
       "      <td>0</td>\n",
       "    </tr>\n",
       "    <tr>\n",
       "      <th>1115155</th>\n",
       "      <td>1992197222</td>\n",
       "      <td>Langford</td>\n",
       "      <td>Shanna</td>\n",
       "      <td>NaN</td>\n",
       "      <td>I</td>\n",
       "      <td>F</td>\n",
       "      <td>I</td>\n",
       "      <td>222 Medical Circle</td>\n",
       "      <td>St Claire Regional Medical Center</td>\n",
       "      <td>Morehead</td>\n",
       "      <td>KY</td>\n",
       "      <td>21</td>\n",
       "      <td>40531</td>\n",
       "      <td>NaN</td>\n",
       "      <td>NaN</td>\n",
       "      <td>US</td>\n",
       "      <td>Physician Assistant</td>\n",
       "      <td>Y</td>\n",
       "      <td>80053, 80061, 81003, 82306, 82607, 83036, 8444...</td>\n",
       "      <td>Blood test, comprehensive group of blood chemi...</td>\n",
       "      <td>N, Y</td>\n",
       "      <td>O</td>\n",
       "      <td>489</td>\n",
       "      <td>802.0</td>\n",
       "      <td>623</td>\n",
       "      <td>68.223027</td>\n",
       "      <td>42.374302</td>\n",
       "      <td>27.093775</td>\n",
       "      <td>28.989942</td>\n",
       "      <td>0</td>\n",
       "      <td>0</td>\n",
       "      <td>NaN</td>\n",
       "      <td>NaN</td>\n",
       "      <td>0</td>\n",
       "    </tr>\n",
       "    <tr>\n",
       "      <th>1117774</th>\n",
       "      <td>1992726616</td>\n",
       "      <td>Pham</td>\n",
       "      <td>John</td>\n",
       "      <td>D</td>\n",
       "      <td>DC</td>\n",
       "      <td>M</td>\n",
       "      <td>I</td>\n",
       "      <td>20928 N John Wayne Pkwy</td>\n",
       "      <td>Suite C-4</td>\n",
       "      <td>Maricopa</td>\n",
       "      <td>AZ</td>\n",
       "      <td>4</td>\n",
       "      <td>85239</td>\n",
       "      <td>NaN</td>\n",
       "      <td>NaN</td>\n",
       "      <td>US</td>\n",
       "      <td>Chiropractic</td>\n",
       "      <td>Y</td>\n",
       "      <td>98941</td>\n",
       "      <td>Chiropractic manipulative treatment, 3 to 4 sp...</td>\n",
       "      <td>N</td>\n",
       "      <td>O</td>\n",
       "      <td>122</td>\n",
       "      <td>852.0</td>\n",
       "      <td>852</td>\n",
       "      <td>66.607981</td>\n",
       "      <td>39.670000</td>\n",
       "      <td>26.348908</td>\n",
       "      <td>26.482171</td>\n",
       "      <td>0</td>\n",
       "      <td>0</td>\n",
       "      <td>NaN</td>\n",
       "      <td>NaN</td>\n",
       "      <td>0</td>\n",
       "    </tr>\n",
       "    <tr>\n",
       "      <th>1122800</th>\n",
       "      <td>1992947790</td>\n",
       "      <td>Mascho-Cawley</td>\n",
       "      <td>Deanna</td>\n",
       "      <td>L</td>\n",
       "      <td>D.O.</td>\n",
       "      <td>F</td>\n",
       "      <td>I</td>\n",
       "      <td>100 North Academy Ave</td>\n",
       "      <td>NaN</td>\n",
       "      <td>Danville</td>\n",
       "      <td>PA</td>\n",
       "      <td>42</td>\n",
       "      <td>17782</td>\n",
       "      <td>NaN</td>\n",
       "      <td>NaN</td>\n",
       "      <td>US</td>\n",
       "      <td>Obstetrics &amp; Gynecology</td>\n",
       "      <td>Y</td>\n",
       "      <td>99213, 99214, G0101</td>\n",
       "      <td>Established patient outpatient visit, total ti...</td>\n",
       "      <td>N</td>\n",
       "      <td>O</td>\n",
       "      <td>84</td>\n",
       "      <td>117.0</td>\n",
       "      <td>117</td>\n",
       "      <td>164.102564</td>\n",
       "      <td>80.000427</td>\n",
       "      <td>56.791111</td>\n",
       "      <td>58.724615</td>\n",
       "      <td>0</td>\n",
       "      <td>0</td>\n",
       "      <td>NaN</td>\n",
       "      <td>NaN</td>\n",
       "      <td>0</td>\n",
       "    </tr>\n",
       "  </tbody>\n",
       "</table>\n",
       "<p>703 rows × 34 columns</p>\n",
       "</div>"
      ],
      "text/plain": [
       "                NPI  Last_Org_Name First_Name   MI Crdntls Gndr Ent_Cd  \\\n",
       "256      1003015652     Dehqanzada        Zia    A    M.D.    M      I   \n",
       "10669    1003962614       Friedman      Kevin  NaN      MD    M      I   \n",
       "10748    1003967290          Patel     Paresh    R      MD    M      I   \n",
       "11899    1013025915            Lee       Yong    L      MD    M      I   \n",
       "12195    1013049014      Mcfarland    Timothy    G      DC    M      I   \n",
       "...             ...            ...        ...  ...     ...  ...    ...   \n",
       "1112750  1992035307     Tarrillion       Zach    A   D.P.T    M      I   \n",
       "1115074  1992191613        Hullett    Patrick  NaN    M.D.    M      I   \n",
       "1115155  1992197222       Langford     Shanna  NaN       I    F      I   \n",
       "1117774  1992726616           Pham       John    D      DC    M      I   \n",
       "1122800  1992947790  Mascho-Cawley     Deanna    L    D.O.    F      I   \n",
       "\n",
       "                                               St1  \\\n",
       "256                                        Cmr 442   \n",
       "10669    University Of Colorado School Of Medicine   \n",
       "10748                 Walter Reed Army Medical Ctr   \n",
       "11899                 888 Tianlin Lu, Building 1e,   \n",
       "12195                             43553 W Askew Dr   \n",
       "...                                            ...   \n",
       "1112750                                    Psc 482   \n",
       "1115074                       505 Parnassus Avenue   \n",
       "1115155                         222 Medical Circle   \n",
       "1117774                    20928 N John Wayne Pkwy   \n",
       "1122800                      100 North Academy Ave   \n",
       "\n",
       "                                       St2           City State_Abrvtn  \\\n",
       "256                                Box 291            Apo           AE   \n",
       "10669                                  NaN         Denver           CO   \n",
       "10748                     6900 Georgia Ave     Washington           DC   \n",
       "11899                                  NaN       Shanghai           ZZ   \n",
       "12195                                  NaN       Maricopa           AZ   \n",
       "...                                    ...            ...          ...   \n",
       "1112750                           Box 3052            Fpo           AP   \n",
       "1115074                                NaN  San Francisco           CA   \n",
       "1115155  St Claire Regional Medical Center       Morehead           KY   \n",
       "1117774                          Suite C-4       Maricopa           AZ   \n",
       "1122800                                NaN       Danville           PA   \n",
       "\n",
       "        State_FIPS   Zip5  RUCA RUCA_Desc Cntry  \\\n",
       "256             9B   9042   NaN       NaN    US   \n",
       "10669            8  80262   NaN       NaN    US   \n",
       "10748           11  20307   NaN       NaN    US   \n",
       "11899           9E  20023   NaN       NaN    CN   \n",
       "12195           04  85238   NaN       NaN    US   \n",
       "...            ...    ...   ...       ...   ...   \n",
       "1112750         9C  96362   NaN       NaN    US   \n",
       "1115074          6  93143   NaN       NaN    US   \n",
       "1115155         21  40531   NaN       NaN    US   \n",
       "1117774          4  85239   NaN       NaN    US   \n",
       "1122800         42  17782   NaN       NaN    US   \n",
       "\n",
       "                                           Type Mdcr_Prtcptg_Ind  \\\n",
       "256                             General Surgery                Y   \n",
       "10669                        Pediatric Medicine                Y   \n",
       "10748                        Emergency Medicine                Y   \n",
       "11899                           Family Practice                Y   \n",
       "12195                              Chiropractic                Y   \n",
       "...                                         ...              ...   \n",
       "1112750  Physical Therapist in Private Practice                Y   \n",
       "1115074                               Neurology                Y   \n",
       "1115155                     Physician Assistant                Y   \n",
       "1117774                            Chiropractic                Y   \n",
       "1122800                 Obstetrics & Gynecology                Y   \n",
       "\n",
       "                                                  HCPCS_Cd  \\\n",
       "256               47562, 47563, 99222, 99223, 99231, 99232   \n",
       "10669                                  93303, 93320, 93325   \n",
       "10748                                  93010, 99285, 99291   \n",
       "11899    20610, 90686, 90694, 90732, 99203, 99213, 9921...   \n",
       "12195                                                98941   \n",
       "...                                                    ...   \n",
       "1112750                                              97110   \n",
       "1115074                                              95718   \n",
       "1115155  80053, 80061, 81003, 82306, 82607, 83036, 8444...   \n",
       "1117774                                              98941   \n",
       "1122800                                99213, 99214, G0101   \n",
       "\n",
       "                                                HCPCS_Desc HCPCS_Drug_Ind  \\\n",
       "256      Removal of gallbladder using an endoscope, Rem...              N   \n",
       "10669    Ultrasound examination of congenital heart def...              N   \n",
       "10748    Routine electrocardiogram (ekg) using at least...              N   \n",
       "11899    Aspiration and/or injection of large joint or ...           N, Y   \n",
       "12195    Chiropractic manipulative treatment, 3 to 4 sp...              N   \n",
       "...                                                    ...            ...   \n",
       "1112750  Therapeutic exercise to develop strength, endu...              N   \n",
       "1115074  Continuous measurement of brain wave activity ...              N   \n",
       "1115155  Blood test, comprehensive group of blood chemi...           N, Y   \n",
       "1117774  Chiropractic manipulative treatment, 3 to 4 sp...              N   \n",
       "1122800  Established patient outpatient visit, total ti...              N   \n",
       "\n",
       "        Place_Of_Srvc  Tot_Benes  Tot_Srvcs  Tot_Bene_Day_Srvcs  \\\n",
       "256                 F        294      334.0                 334   \n",
       "10669               F         46       49.0                  49   \n",
       "10748               F        119      122.0                 120   \n",
       "11899               O        471      659.0                 569   \n",
       "12195               O         25      388.0                 388   \n",
       "...               ...        ...        ...                 ...   \n",
       "1112750             O         12       64.0                  43   \n",
       "1115074             F         12       16.0                  16   \n",
       "1115155             O        489      802.0                 623   \n",
       "1117774             O        122      852.0                 852   \n",
       "1122800             O         84      117.0                 117   \n",
       "\n",
       "         Avg_Sbmtd_Chrg  Avg_Mdcr_Alowd_Amt  Avg_Mdcr_Pymt_Amt  \\\n",
       "256          400.910180          162.246347         128.874162   \n",
       "10669        200.673469           29.826122          20.886939   \n",
       "10748       1172.974603          122.846833         102.297522   \n",
       "11899        217.179491           89.491857          59.565353   \n",
       "12195         50.000000           39.670000          28.121392   \n",
       "...                 ...                 ...                ...   \n",
       "1112750       50.000000           29.023750          22.903281   \n",
       "1115074      706.000000          151.870000         121.500000   \n",
       "1115155       68.223027           42.374302          27.093775   \n",
       "1117774       66.607981           39.670000          26.348908   \n",
       "1122800      164.102564           80.000427          56.791111   \n",
       "\n",
       "         Avg_Mdcr_Stdzd_Amt  fraud  partb_n EXCLTYPE  EXCLDATE  eligibility  \n",
       "256              122.291257      0        0      NaN       NaN            0  \n",
       "10669             18.730204      0        0      NaN       NaN            0  \n",
       "10748             98.511289      0        0      NaN       NaN            0  \n",
       "11899             54.661231      0        0      NaN       NaN            0  \n",
       "12195             28.210928      0        0      NaN       NaN            0  \n",
       "...                     ...    ...      ...      ...       ...          ...  \n",
       "1112750           20.604063      0        0      NaN       NaN            0  \n",
       "1115074          106.150000      0        0      NaN       NaN            0  \n",
       "1115155           28.989942      0        0      NaN       NaN            0  \n",
       "1117774           26.482171      0        0      NaN       NaN            0  \n",
       "1122800           58.724615      0        0      NaN       NaN            0  \n",
       "\n",
       "[703 rows x 34 columns]"
      ]
     },
     "execution_count": 16,
     "metadata": {},
     "output_type": "execute_result"
    }
   ],
   "source": [
    "df[(~df.RUCA.notna())]"
   ]
  },
  {
   "cell_type": "code",
   "execution_count": 17,
   "id": "cca29248",
   "metadata": {},
   "outputs": [],
   "source": [
    "df.RUCA.fillna(0, inplace = True)"
   ]
  },
  {
   "cell_type": "markdown",
   "id": "587a46af",
   "metadata": {},
   "source": [
    "# Chi"
   ]
  },
  {
   "cell_type": "code",
   "execution_count": 18,
   "id": "56f07e8d",
   "metadata": {},
   "outputs": [
    {
     "data": {
      "text/plain": [
       "NPI                         0\n",
       "Last_Org_Name               0\n",
       "First_Name              64187\n",
       "MI                     405734\n",
       "Crdntls                     0\n",
       "Gndr                        0\n",
       "Ent_Cd                      0\n",
       "St1                         0\n",
       "St2                    839121\n",
       "City                        0\n",
       "State_Abrvtn                0\n",
       "State_FIPS                  0\n",
       "Zip5                        1\n",
       "RUCA                        0\n",
       "RUCA_Desc                 703\n",
       "Cntry                       0\n",
       "Type                        0\n",
       "Mdcr_Prtcptg_Ind            0\n",
       "HCPCS_Cd                    0\n",
       "HCPCS_Desc                  0\n",
       "HCPCS_Drug_Ind              0\n",
       "Place_Of_Srvc               0\n",
       "Tot_Benes                   0\n",
       "Tot_Srvcs                   0\n",
       "Tot_Bene_Day_Srvcs          0\n",
       "Avg_Sbmtd_Chrg              0\n",
       "Avg_Mdcr_Alowd_Amt          0\n",
       "Avg_Mdcr_Pymt_Amt           0\n",
       "Avg_Mdcr_Stdzd_Amt          0\n",
       "fraud                       0\n",
       "partb_n                     0\n",
       "EXCLTYPE              1123480\n",
       "EXCLDATE              1123480\n",
       "eligibility                 0\n",
       "dtype: int64"
      ]
     },
     "execution_count": 18,
     "metadata": {},
     "output_type": "execute_result"
    }
   ],
   "source": [
    "df.isna().sum()"
   ]
  },
  {
   "cell_type": "code",
   "execution_count": 19,
   "id": "985ff5be",
   "metadata": {},
   "outputs": [],
   "source": [
    "df = df.drop(['Last_Org_Name', 'First_Name', 'MI', 'St1', 'St2','City', 'State_FIPS', 'Zip5', 'RUCA_Desc','Cntry', 'HCPCS_Desc', 'fraud', 'partb_n', 'EXCLTYPE','EXCLDATE'], axis=1)"
   ]
  },
  {
   "cell_type": "code",
   "execution_count": 20,
   "id": "4ae51ade",
   "metadata": {},
   "outputs": [
    {
     "name": "stdout",
     "output_type": "stream",
     "text": [
      "<class 'pandas.core.frame.DataFrame'>\n",
      "RangeIndex: 1123589 entries, 0 to 1123588\n",
      "Data columns (total 19 columns):\n",
      " #   Column              Non-Null Count    Dtype  \n",
      "---  ------              --------------    -----  \n",
      " 0   NPI                 1123589 non-null  int64  \n",
      " 1   Crdntls             1123589 non-null  object \n",
      " 2   Gndr                1123589 non-null  object \n",
      " 3   Ent_Cd              1123589 non-null  object \n",
      " 4   State_Abrvtn        1123589 non-null  object \n",
      " 5   RUCA                1123589 non-null  float64\n",
      " 6   Type                1123589 non-null  object \n",
      " 7   Mdcr_Prtcptg_Ind    1123589 non-null  object \n",
      " 8   HCPCS_Cd            1123589 non-null  object \n",
      " 9   HCPCS_Drug_Ind      1123589 non-null  object \n",
      " 10  Place_Of_Srvc       1123589 non-null  object \n",
      " 11  Tot_Benes           1123589 non-null  int64  \n",
      " 12  Tot_Srvcs           1123589 non-null  float64\n",
      " 13  Tot_Bene_Day_Srvcs  1123589 non-null  int64  \n",
      " 14  Avg_Sbmtd_Chrg      1123589 non-null  float64\n",
      " 15  Avg_Mdcr_Alowd_Amt  1123589 non-null  float64\n",
      " 16  Avg_Mdcr_Pymt_Amt   1123589 non-null  float64\n",
      " 17  Avg_Mdcr_Stdzd_Amt  1123589 non-null  float64\n",
      " 18  eligibility         1123589 non-null  int64  \n",
      "dtypes: float64(6), int64(4), object(9)\n",
      "memory usage: 162.9+ MB\n"
     ]
    }
   ],
   "source": [
    "df.info()"
   ]
  },
  {
   "cell_type": "code",
   "execution_count": 21,
   "id": "aafe034f",
   "metadata": {},
   "outputs": [],
   "source": [
    "df.RUCA = df.RUCA.astype(object)"
   ]
  },
  {
   "cell_type": "code",
   "execution_count": 22,
   "id": "77abaa2a",
   "metadata": {},
   "outputs": [],
   "source": [
    "cat_col = ['Gndr', 'State_Abrvtn', 'RUCA','Type', \n",
    "    'Mdcr_Prtcptg_Ind', 'HCPCS_Drug_Ind', 'Place_Of_Srvc']"
   ]
  },
  {
   "cell_type": "code",
   "execution_count": 23,
   "id": "b9a358ca",
   "metadata": {},
   "outputs": [],
   "source": [
    "X = df[cat_col]\n",
    "y = df.eligibility"
   ]
  },
  {
   "cell_type": "code",
   "execution_count": 24,
   "id": "2861665b",
   "metadata": {},
   "outputs": [
    {
     "data": {
      "text/html": [
       "<div>\n",
       "<style scoped>\n",
       "    .dataframe tbody tr th:only-of-type {\n",
       "        vertical-align: middle;\n",
       "    }\n",
       "\n",
       "    .dataframe tbody tr th {\n",
       "        vertical-align: top;\n",
       "    }\n",
       "\n",
       "    .dataframe thead th {\n",
       "        text-align: right;\n",
       "    }\n",
       "</style>\n",
       "<table border=\"1\" class=\"dataframe\">\n",
       "  <thead>\n",
       "    <tr style=\"text-align: right;\">\n",
       "      <th></th>\n",
       "      <th>Gndr</th>\n",
       "      <th>State_Abrvtn</th>\n",
       "      <th>RUCA</th>\n",
       "      <th>Type</th>\n",
       "      <th>Mdcr_Prtcptg_Ind</th>\n",
       "      <th>HCPCS_Drug_Ind</th>\n",
       "      <th>Place_Of_Srvc</th>\n",
       "    </tr>\n",
       "  </thead>\n",
       "  <tbody>\n",
       "    <tr>\n",
       "      <th>count</th>\n",
       "      <td>1123589</td>\n",
       "      <td>1123589</td>\n",
       "      <td>1123589.0</td>\n",
       "      <td>1123589</td>\n",
       "      <td>1123589</td>\n",
       "      <td>1123589</td>\n",
       "      <td>1123589</td>\n",
       "    </tr>\n",
       "    <tr>\n",
       "      <th>unique</th>\n",
       "      <td>3</td>\n",
       "      <td>61</td>\n",
       "      <td>23.0</td>\n",
       "      <td>103</td>\n",
       "      <td>4</td>\n",
       "      <td>4</td>\n",
       "      <td>4</td>\n",
       "    </tr>\n",
       "    <tr>\n",
       "      <th>top</th>\n",
       "      <td>M</td>\n",
       "      <td>CA</td>\n",
       "      <td>1.0</td>\n",
       "      <td>Nurse Practitioner</td>\n",
       "      <td>Y</td>\n",
       "      <td>N</td>\n",
       "      <td>O</td>\n",
       "    </tr>\n",
       "    <tr>\n",
       "      <th>freq</th>\n",
       "      <td>559187</td>\n",
       "      <td>87424</td>\n",
       "      <td>948304.0</td>\n",
       "      <td>149911</td>\n",
       "      <td>1122070</td>\n",
       "      <td>901567</td>\n",
       "      <td>561001</td>\n",
       "    </tr>\n",
       "  </tbody>\n",
       "</table>\n",
       "</div>"
      ],
      "text/plain": [
       "           Gndr State_Abrvtn       RUCA                Type Mdcr_Prtcptg_Ind  \\\n",
       "count   1123589      1123589  1123589.0             1123589          1123589   \n",
       "unique        3           61       23.0                 103                4   \n",
       "top           M           CA        1.0  Nurse Practitioner                Y   \n",
       "freq     559187        87424   948304.0              149911          1122070   \n",
       "\n",
       "       HCPCS_Drug_Ind Place_Of_Srvc  \n",
       "count         1123589       1123589  \n",
       "unique              4             4  \n",
       "top                 N             O  \n",
       "freq           901567        561001  "
      ]
     },
     "execution_count": 24,
     "metadata": {},
     "output_type": "execute_result"
    }
   ],
   "source": [
    "X.describe()"
   ]
  },
  {
   "cell_type": "code",
   "execution_count": 25,
   "id": "f78195af",
   "metadata": {},
   "outputs": [
    {
     "name": "stderr",
     "output_type": "stream",
     "text": [
      "C:\\Users\\ronal\\AppData\\Local\\Temp\\ipykernel_8284\\3563575316.py:3: SettingWithCopyWarning: \n",
      "A value is trying to be set on a copy of a slice from a DataFrame.\n",
      "Try using .loc[row_indexer,col_indexer] = value instead\n",
      "\n",
      "See the caveats in the documentation: https://pandas.pydata.org/pandas-docs/stable/user_guide/indexing.html#returning-a-view-versus-a-copy\n",
      "  X[col] = label_encoder.fit_transform(X[col])\n"
     ]
    }
   ],
   "source": [
    "label_encoder = LabelEncoder()\n",
    "for col in cat_col:  \n",
    "    X[col] = label_encoder.fit_transform(X[col])\n"
   ]
  },
  {
   "cell_type": "code",
   "execution_count": 26,
   "id": "e7b7b9db",
   "metadata": {},
   "outputs": [
    {
     "data": {
      "text/plain": [
       "(array([7.47817427e+01, 1.04697243e+02, 2.34077516e+01, 1.80620680e+03,\n",
       "        8.80715104e-03, 1.69115690e+01, 1.44343798e+02]),\n",
       " array([5.25736478e-18, 1.42298891e-24, 1.31049394e-06, 0.00000000e+00,\n",
       "        9.25231154e-01, 3.91621725e-05, 2.98830725e-33]))"
      ]
     },
     "execution_count": 26,
     "metadata": {},
     "output_type": "execute_result"
    }
   ],
   "source": [
    "chi2(X, y)"
   ]
  },
  {
   "cell_type": "code",
   "execution_count": 27,
   "id": "283af153",
   "metadata": {},
   "outputs": [
    {
     "data": {
      "text/html": [
       "<div>\n",
       "<style scoped>\n",
       "    .dataframe tbody tr th:only-of-type {\n",
       "        vertical-align: middle;\n",
       "    }\n",
       "\n",
       "    .dataframe tbody tr th {\n",
       "        vertical-align: top;\n",
       "    }\n",
       "\n",
       "    .dataframe thead th {\n",
       "        text-align: right;\n",
       "    }\n",
       "</style>\n",
       "<table border=\"1\" class=\"dataframe\">\n",
       "  <thead>\n",
       "    <tr style=\"text-align: right;\">\n",
       "      <th></th>\n",
       "      <th>Gndr</th>\n",
       "      <th>State_Abrvtn</th>\n",
       "      <th>RUCA</th>\n",
       "      <th>Type</th>\n",
       "      <th>Mdcr_Prtcptg_Ind</th>\n",
       "      <th>HCPCS_Drug_Ind</th>\n",
       "      <th>Place_Of_Srvc</th>\n",
       "    </tr>\n",
       "  </thead>\n",
       "  <tbody>\n",
       "    <tr>\n",
       "      <th>0</th>\n",
       "      <td>1</td>\n",
       "      <td>25</td>\n",
       "      <td>1</td>\n",
       "      <td>44</td>\n",
       "      <td>2</td>\n",
       "      <td>0</td>\n",
       "      <td>3</td>\n",
       "    </tr>\n",
       "    <tr>\n",
       "      <th>1</th>\n",
       "      <td>1</td>\n",
       "      <td>19</td>\n",
       "      <td>1</td>\n",
       "      <td>73</td>\n",
       "      <td>2</td>\n",
       "      <td>0</td>\n",
       "      <td>0</td>\n",
       "    </tr>\n",
       "    <tr>\n",
       "      <th>2</th>\n",
       "      <td>1</td>\n",
       "      <td>41</td>\n",
       "      <td>1</td>\n",
       "      <td>7</td>\n",
       "      <td>2</td>\n",
       "      <td>1</td>\n",
       "      <td>1</td>\n",
       "    </tr>\n",
       "    <tr>\n",
       "      <th>3</th>\n",
       "      <td>0</td>\n",
       "      <td>41</td>\n",
       "      <td>1</td>\n",
       "      <td>63</td>\n",
       "      <td>2</td>\n",
       "      <td>0</td>\n",
       "      <td>2</td>\n",
       "    </tr>\n",
       "    <tr>\n",
       "      <th>4</th>\n",
       "      <td>1</td>\n",
       "      <td>9</td>\n",
       "      <td>1</td>\n",
       "      <td>30</td>\n",
       "      <td>2</td>\n",
       "      <td>0</td>\n",
       "      <td>0</td>\n",
       "    </tr>\n",
       "  </tbody>\n",
       "</table>\n",
       "</div>"
      ],
      "text/plain": [
       "   Gndr  State_Abrvtn  RUCA  Type  Mdcr_Prtcptg_Ind  HCPCS_Drug_Ind  \\\n",
       "0     1            25     1    44                 2               0   \n",
       "1     1            19     1    73                 2               0   \n",
       "2     1            41     1     7                 2               1   \n",
       "3     0            41     1    63                 2               0   \n",
       "4     1             9     1    30                 2               0   \n",
       "\n",
       "   Place_Of_Srvc  \n",
       "0              3  \n",
       "1              0  \n",
       "2              1  \n",
       "3              2  \n",
       "4              0  "
      ]
     },
     "execution_count": 27,
     "metadata": {},
     "output_type": "execute_result"
    }
   ],
   "source": [
    "X.head()"
   ]
  },
  {
   "cell_type": "code",
   "execution_count": 28,
   "id": "854f8afd",
   "metadata": {},
   "outputs": [
    {
     "name": "stdout",
     "output_type": "stream",
     "text": [
      "            Feature  Chi-squared       p-value\n",
      "0              Gndr    74.781743  5.257365e-18\n",
      "1      State_Abrvtn   104.697243  1.422989e-24\n",
      "2              RUCA    23.407752  1.310494e-06\n",
      "3              Type  1806.206803  0.000000e+00\n",
      "4  Mdcr_Prtcptg_Ind     0.008807  9.252312e-01\n",
      "5    HCPCS_Drug_Ind    16.911569  3.916217e-05\n",
      "6     Place_Of_Srvc   144.343798  2.988307e-33\n"
     ]
    }
   ],
   "source": [
    "chi2_stats, p_values = chi2(X, y)\n",
    "\n",
    "results_df = pd.DataFrame({'Feature': cat_col, 'Chi-squared': chi2_stats, 'p-value': p_values})\n",
    "\n",
    "print(results_df)"
   ]
  },
  {
   "cell_type": "code",
   "execution_count": 29,
   "id": "876b7ab3",
   "metadata": {},
   "outputs": [],
   "source": [
    "X_new = SelectKBest(score_func=chi2, k=5).fit_transform(X, y)"
   ]
  },
  {
   "cell_type": "code",
   "execution_count": 30,
   "id": "3e32f5f4",
   "metadata": {},
   "outputs": [
    {
     "name": "stdout",
     "output_type": "stream",
     "text": [
      "Selected Features:\n",
      "Index(['Gndr', 'State_Abrvtn', 'RUCA', 'Type', 'Place_Of_Srvc'], dtype='object')\n"
     ]
    }
   ],
   "source": [
    "selector = SelectKBest(score_func=chi2, k=5)\n",
    "X_new = selector.fit_transform(X, y)\n",
    "\n",
    "selected_feature_indices = selector.get_support(indices=True)\n",
    "\n",
    "selected_features = X.columns[selected_feature_indices]\n",
    "\n",
    "print(\"Selected Features:\")\n",
    "print(selected_features)"
   ]
  },
  {
   "cell_type": "markdown",
   "id": "d4dc46a8",
   "metadata": {},
   "source": [
    "# Multicollinearity"
   ]
  },
  {
   "cell_type": "code",
   "execution_count": 31,
   "id": "4a0a8a1f",
   "metadata": {},
   "outputs": [],
   "source": [
    "categorical_columns = ['Gndr', 'State_Abrvtn', 'RUCA', 'Type', 'Place_Of_Srvc']\n",
    "\n",
    "numerical_columns = ['Tot_Benes', 'Tot_Srvcs', 'Tot_Bene_Day_Srvcs', 'Avg_Sbmtd_Chrg',\n",
    "    'Avg_Mdcr_Alowd_Amt', 'Avg_Mdcr_Pymt_Amt', 'Avg_Mdcr_Stdzd_Amt']\n",
    "\n",
    "target = ['eligibility']"
   ]
  },
  {
   "cell_type": "code",
   "execution_count": 32,
   "id": "0fc373a7",
   "metadata": {},
   "outputs": [],
   "source": [
    "data_num = df[numerical_columns+target]"
   ]
  },
  {
   "cell_type": "code",
   "execution_count": 33,
   "id": "4868a846",
   "metadata": {},
   "outputs": [
    {
     "data": {
      "image/png": "[encoded data removed]",
      "text/plain": [
       "<Figure size 1600x1000 with 2 Axes>"
      ]
     },
     "metadata": {},
     "output_type": "display_data"
    }
   ],
   "source": [
    "mask = np.triu(np.ones_like(data_num.corr(), dtype=bool))\n",
    "\n",
    "plt.figure(figsize=(16, 10))\n",
    "sns.heatmap(data_num.corr(), annot=True, mask=mask, vmin=-1, vmax=1)\n",
    "plt.title('Correlation Coefficient Of Predictors')\n",
    "plt.show()"
   ]
  },
  {
   "cell_type": "code",
   "execution_count": 34,
   "id": "4842a818",
   "metadata": {},
   "outputs": [
    {
     "data": {
      "text/html": [
       "<div>\n",
       "<style scoped>\n",
       "    .dataframe tbody tr th:only-of-type {\n",
       "        vertical-align: middle;\n",
       "    }\n",
       "\n",
       "    .dataframe tbody tr th {\n",
       "        vertical-align: top;\n",
       "    }\n",
       "\n",
       "    .dataframe thead th {\n",
       "        text-align: right;\n",
       "    }\n",
       "</style>\n",
       "<table border=\"1\" class=\"dataframe\">\n",
       "  <thead>\n",
       "    <tr style=\"text-align: right;\">\n",
       "      <th></th>\n",
       "      <th>Feature</th>\n",
       "      <th>VIF</th>\n",
       "    </tr>\n",
       "  </thead>\n",
       "  <tbody>\n",
       "    <tr>\n",
       "      <th>0</th>\n",
       "      <td>Tot_Benes</td>\n",
       "      <td>113.262414</td>\n",
       "    </tr>\n",
       "    <tr>\n",
       "      <th>1</th>\n",
       "      <td>Tot_Srvcs</td>\n",
       "      <td>2.917203</td>\n",
       "    </tr>\n",
       "    <tr>\n",
       "      <th>2</th>\n",
       "      <td>Tot_Bene_Day_Srvcs</td>\n",
       "      <td>118.574227</td>\n",
       "    </tr>\n",
       "    <tr>\n",
       "      <th>3</th>\n",
       "      <td>Avg_Sbmtd_Chrg</td>\n",
       "      <td>2.378833</td>\n",
       "    </tr>\n",
       "    <tr>\n",
       "      <th>4</th>\n",
       "      <td>Avg_Mdcr_Alowd_Amt</td>\n",
       "      <td>348.941866</td>\n",
       "    </tr>\n",
       "    <tr>\n",
       "      <th>5</th>\n",
       "      <td>Avg_Mdcr_Pymt_Amt</td>\n",
       "      <td>447.212086</td>\n",
       "    </tr>\n",
       "    <tr>\n",
       "      <th>6</th>\n",
       "      <td>Avg_Mdcr_Stdzd_Amt</td>\n",
       "      <td>122.835942</td>\n",
       "    </tr>\n",
       "  </tbody>\n",
       "</table>\n",
       "</div>"
      ],
      "text/plain": [
       "              Feature         VIF\n",
       "0           Tot_Benes  113.262414\n",
       "1           Tot_Srvcs    2.917203\n",
       "2  Tot_Bene_Day_Srvcs  118.574227\n",
       "3      Avg_Sbmtd_Chrg    2.378833\n",
       "4  Avg_Mdcr_Alowd_Amt  348.941866\n",
       "5   Avg_Mdcr_Pymt_Amt  447.212086\n",
       "6  Avg_Mdcr_Stdzd_Amt  122.835942"
      ]
     },
     "execution_count": 34,
     "metadata": {},
     "output_type": "execute_result"
    }
   ],
   "source": [
    "X = data_num.drop(columns=['eligibility'])  \n",
    "vif_data = pd.DataFrame()\n",
    "vif_data[\"Feature\"] = X.columns\n",
    "vif_data[\"VIF\"] = [variance_inflation_factor(X.values, i) for i in range(X.shape[1])]\n",
    "vif_data"
   ]
  },
  {
   "cell_type": "code",
   "execution_count": 35,
   "id": "c841b42f",
   "metadata": {},
   "outputs": [
    {
     "data": {
      "text/html": [
       "<div>\n",
       "<style scoped>\n",
       "    .dataframe tbody tr th:only-of-type {\n",
       "        vertical-align: middle;\n",
       "    }\n",
       "\n",
       "    .dataframe tbody tr th {\n",
       "        vertical-align: top;\n",
       "    }\n",
       "\n",
       "    .dataframe thead th {\n",
       "        text-align: right;\n",
       "    }\n",
       "</style>\n",
       "<table border=\"1\" class=\"dataframe\">\n",
       "  <thead>\n",
       "    <tr style=\"text-align: right;\">\n",
       "      <th></th>\n",
       "      <th>Feature</th>\n",
       "      <th>VIF</th>\n",
       "    </tr>\n",
       "  </thead>\n",
       "  <tbody>\n",
       "    <tr>\n",
       "      <th>0</th>\n",
       "      <td>Tot_Srvcs</td>\n",
       "      <td>2.877186</td>\n",
       "    </tr>\n",
       "    <tr>\n",
       "      <th>1</th>\n",
       "      <td>Tot_Bene_Day_Srvcs</td>\n",
       "      <td>2.875452</td>\n",
       "    </tr>\n",
       "    <tr>\n",
       "      <th>2</th>\n",
       "      <td>Avg_Sbmtd_Chrg</td>\n",
       "      <td>2.378559</td>\n",
       "    </tr>\n",
       "    <tr>\n",
       "      <th>3</th>\n",
       "      <td>Avg_Mdcr_Alowd_Amt</td>\n",
       "      <td>348.884253</td>\n",
       "    </tr>\n",
       "    <tr>\n",
       "      <th>4</th>\n",
       "      <td>Avg_Mdcr_Pymt_Amt</td>\n",
       "      <td>447.167189</td>\n",
       "    </tr>\n",
       "    <tr>\n",
       "      <th>5</th>\n",
       "      <td>Avg_Mdcr_Stdzd_Amt</td>\n",
       "      <td>122.835703</td>\n",
       "    </tr>\n",
       "  </tbody>\n",
       "</table>\n",
       "</div>"
      ],
      "text/plain": [
       "              Feature         VIF\n",
       "0           Tot_Srvcs    2.877186\n",
       "1  Tot_Bene_Day_Srvcs    2.875452\n",
       "2      Avg_Sbmtd_Chrg    2.378559\n",
       "3  Avg_Mdcr_Alowd_Amt  348.884253\n",
       "4   Avg_Mdcr_Pymt_Amt  447.167189\n",
       "5  Avg_Mdcr_Stdzd_Amt  122.835703"
      ]
     },
     "execution_count": 35,
     "metadata": {},
     "output_type": "execute_result"
    }
   ],
   "source": [
    "X = data_num.drop(columns=['eligibility','Tot_Benes'])  \n",
    "vif_data = pd.DataFrame()\n",
    "vif_data[\"Feature\"] = X.columns\n",
    "vif_data[\"VIF\"] = [variance_inflation_factor(X.values, i) for i in range(X.shape[1])]\n",
    "vif_data"
   ]
  },
  {
   "cell_type": "code",
   "execution_count": 36,
   "id": "c1c7bb81",
   "metadata": {},
   "outputs": [
    {
     "data": {
      "text/html": [
       "<div>\n",
       "<style scoped>\n",
       "    .dataframe tbody tr th:only-of-type {\n",
       "        vertical-align: middle;\n",
       "    }\n",
       "\n",
       "    .dataframe tbody tr th {\n",
       "        vertical-align: top;\n",
       "    }\n",
       "\n",
       "    .dataframe thead th {\n",
       "        text-align: right;\n",
       "    }\n",
       "</style>\n",
       "<table border=\"1\" class=\"dataframe\">\n",
       "  <thead>\n",
       "    <tr style=\"text-align: right;\">\n",
       "      <th></th>\n",
       "      <th>Feature</th>\n",
       "      <th>VIF</th>\n",
       "    </tr>\n",
       "  </thead>\n",
       "  <tbody>\n",
       "    <tr>\n",
       "      <th>0</th>\n",
       "      <td>Tot_Srvcs</td>\n",
       "      <td>2.877133</td>\n",
       "    </tr>\n",
       "    <tr>\n",
       "      <th>1</th>\n",
       "      <td>Tot_Bene_Day_Srvcs</td>\n",
       "      <td>2.875426</td>\n",
       "    </tr>\n",
       "    <tr>\n",
       "      <th>2</th>\n",
       "      <td>Avg_Sbmtd_Chrg</td>\n",
       "      <td>2.378053</td>\n",
       "    </tr>\n",
       "    <tr>\n",
       "      <th>3</th>\n",
       "      <td>Avg_Mdcr_Pymt_Amt</td>\n",
       "      <td>124.709450</td>\n",
       "    </tr>\n",
       "    <tr>\n",
       "      <th>4</th>\n",
       "      <td>Avg_Mdcr_Stdzd_Amt</td>\n",
       "      <td>122.325425</td>\n",
       "    </tr>\n",
       "  </tbody>\n",
       "</table>\n",
       "</div>"
      ],
      "text/plain": [
       "              Feature         VIF\n",
       "0           Tot_Srvcs    2.877133\n",
       "1  Tot_Bene_Day_Srvcs    2.875426\n",
       "2      Avg_Sbmtd_Chrg    2.378053\n",
       "3   Avg_Mdcr_Pymt_Amt  124.709450\n",
       "4  Avg_Mdcr_Stdzd_Amt  122.325425"
      ]
     },
     "execution_count": 36,
     "metadata": {},
     "output_type": "execute_result"
    }
   ],
   "source": [
    "X = data_num.drop(columns=['eligibility','Tot_Benes','Avg_Mdcr_Alowd_Amt'])  \n",
    "vif_data = pd.DataFrame()\n",
    "vif_data[\"Feature\"] = X.columns\n",
    "vif_data[\"VIF\"] = [variance_inflation_factor(X.values, i) for i in range(X.shape[1])]\n",
    "vif_data"
   ]
  },
  {
   "cell_type": "code",
   "execution_count": 37,
   "id": "cc1e3e43",
   "metadata": {
    "scrolled": true
   },
   "outputs": [
    {
     "data": {
      "text/html": [
       "<div>\n",
       "<style scoped>\n",
       "    .dataframe tbody tr th:only-of-type {\n",
       "        vertical-align: middle;\n",
       "    }\n",
       "\n",
       "    .dataframe tbody tr th {\n",
       "        vertical-align: top;\n",
       "    }\n",
       "\n",
       "    .dataframe thead th {\n",
       "        text-align: right;\n",
       "    }\n",
       "</style>\n",
       "<table border=\"1\" class=\"dataframe\">\n",
       "  <thead>\n",
       "    <tr style=\"text-align: right;\">\n",
       "      <th></th>\n",
       "      <th>Feature</th>\n",
       "      <th>VIF</th>\n",
       "    </tr>\n",
       "  </thead>\n",
       "  <tbody>\n",
       "    <tr>\n",
       "      <th>0</th>\n",
       "      <td>Tot_Srvcs</td>\n",
       "      <td>2.877124</td>\n",
       "    </tr>\n",
       "    <tr>\n",
       "      <th>1</th>\n",
       "      <td>Tot_Bene_Day_Srvcs</td>\n",
       "      <td>2.875426</td>\n",
       "    </tr>\n",
       "    <tr>\n",
       "      <th>2</th>\n",
       "      <td>Avg_Sbmtd_Chrg</td>\n",
       "      <td>2.329053</td>\n",
       "    </tr>\n",
       "    <tr>\n",
       "      <th>3</th>\n",
       "      <td>Avg_Mdcr_Stdzd_Amt</td>\n",
       "      <td>2.330288</td>\n",
       "    </tr>\n",
       "  </tbody>\n",
       "</table>\n",
       "</div>"
      ],
      "text/plain": [
       "              Feature       VIF\n",
       "0           Tot_Srvcs  2.877124\n",
       "1  Tot_Bene_Day_Srvcs  2.875426\n",
       "2      Avg_Sbmtd_Chrg  2.329053\n",
       "3  Avg_Mdcr_Stdzd_Amt  2.330288"
      ]
     },
     "execution_count": 37,
     "metadata": {},
     "output_type": "execute_result"
    }
   ],
   "source": [
    "X = data_num.drop(columns=['eligibility','Tot_Benes', 'Avg_Mdcr_Alowd_Amt', 'Avg_Mdcr_Pymt_Amt'])  \n",
    "vif_data = pd.DataFrame()\n",
    "vif_data[\"Feature\"] = X.columns\n",
    "vif_data[\"VIF\"] = [variance_inflation_factor(X.values, i) for i in range(X.shape[1])]\n",
    "vif_data"
   ]
  },
  {
   "cell_type": "markdown",
   "id": "2344ae53",
   "metadata": {},
   "source": [
    "# STANDARDIZATION"
   ]
  },
  {
   "cell_type": "code",
   "execution_count": 38,
   "id": "7d3b86ba",
   "metadata": {},
   "outputs": [],
   "source": [
    "numerical_columns = ['Tot_Bene_Day_Srvcs', 'Tot_Srvcs','Avg_Sbmtd_Chrg', 'Avg_Mdcr_Stdzd_Amt']"
   ]
  },
  {
   "cell_type": "code",
   "execution_count": 39,
   "id": "389339c5",
   "metadata": {},
   "outputs": [
    {
     "name": "stderr",
     "output_type": "stream",
     "text": [
      "C:\\Users\\ronal\\AppData\\Local\\Temp\\ipykernel_8284\\1048143428.py:1: SettingWithCopyWarning: \n",
      "A value is trying to be set on a copy of a slice from a DataFrame.\n",
      "Try using .loc[row_indexer,col_indexer] = value instead\n",
      "\n",
      "See the caveats in the documentation: https://pandas.pydata.org/pandas-docs/stable/user_guide/indexing.html#returning-a-view-versus-a-copy\n",
      "  data_num[numerical_columns] = StandardScaler().fit_transform(data_num[numerical_columns])\n"
     ]
    }
   ],
   "source": [
    "data_num[numerical_columns] = StandardScaler().fit_transform(data_num[numerical_columns])"
   ]
  },
  {
   "cell_type": "markdown",
   "id": "013d7ef5",
   "metadata": {},
   "source": [
    "# Label Encoding"
   ]
  },
  {
   "cell_type": "code",
   "execution_count": 40,
   "id": "fb3d043b",
   "metadata": {},
   "outputs": [],
   "source": [
    "df_label = df.copy()"
   ]
  },
  {
   "cell_type": "code",
   "execution_count": 41,
   "id": "7c2df514",
   "metadata": {},
   "outputs": [],
   "source": [
    "label_encoder = LabelEncoder()\n",
    "for col in categorical_columns:  \n",
    "    df_label[col] = label_encoder.fit_transform(df[col])"
   ]
  },
  {
   "cell_type": "code",
   "execution_count": 42,
   "id": "95a1d155",
   "metadata": {},
   "outputs": [],
   "source": [
    "df_label[numerical_columns] = StandardScaler().fit_transform(df_label[numerical_columns])"
   ]
  },
  {
   "cell_type": "code",
   "execution_count": 43,
   "id": "fe33c845",
   "metadata": {},
   "outputs": [],
   "source": [
    "df_label = df_label[categorical_columns+numerical_columns+target]"
   ]
  },
  {
   "cell_type": "code",
   "execution_count": 44,
   "id": "0a0a3901",
   "metadata": {},
   "outputs": [
    {
     "data": {
      "text/plain": [
       "(1123589, 10)"
      ]
     },
     "execution_count": 44,
     "metadata": {},
     "output_type": "execute_result"
    }
   ],
   "source": [
    "df_label.shape"
   ]
  },
  {
   "cell_type": "code",
   "execution_count": 45,
   "id": "36763b3c",
   "metadata": {},
   "outputs": [
    {
     "data": {
      "text/html": [
       "<div>\n",
       "<style scoped>\n",
       "    .dataframe tbody tr th:only-of-type {\n",
       "        vertical-align: middle;\n",
       "    }\n",
       "\n",
       "    .dataframe tbody tr th {\n",
       "        vertical-align: top;\n",
       "    }\n",
       "\n",
       "    .dataframe thead th {\n",
       "        text-align: right;\n",
       "    }\n",
       "</style>\n",
       "<table border=\"1\" class=\"dataframe\">\n",
       "  <thead>\n",
       "    <tr style=\"text-align: right;\">\n",
       "      <th></th>\n",
       "      <th>Gndr</th>\n",
       "      <th>State_Abrvtn</th>\n",
       "      <th>RUCA</th>\n",
       "      <th>Type</th>\n",
       "      <th>Place_Of_Srvc</th>\n",
       "      <th>Tot_Bene_Day_Srvcs</th>\n",
       "      <th>Tot_Srvcs</th>\n",
       "      <th>Avg_Sbmtd_Chrg</th>\n",
       "      <th>Avg_Mdcr_Stdzd_Amt</th>\n",
       "      <th>eligibility</th>\n",
       "    </tr>\n",
       "  </thead>\n",
       "  <tbody>\n",
       "    <tr>\n",
       "      <th>0</th>\n",
       "      <td>1</td>\n",
       "      <td>25</td>\n",
       "      <td>1</td>\n",
       "      <td>44</td>\n",
       "      <td>3</td>\n",
       "      <td>0.086846</td>\n",
       "      <td>0.038814</td>\n",
       "      <td>-0.270365</td>\n",
       "      <td>-0.180985</td>\n",
       "      <td>0</td>\n",
       "    </tr>\n",
       "    <tr>\n",
       "      <th>1</th>\n",
       "      <td>1</td>\n",
       "      <td>19</td>\n",
       "      <td>1</td>\n",
       "      <td>73</td>\n",
       "      <td>0</td>\n",
       "      <td>0.138674</td>\n",
       "      <td>0.135430</td>\n",
       "      <td>-0.241973</td>\n",
       "      <td>-0.414999</td>\n",
       "      <td>0</td>\n",
       "    </tr>\n",
       "    <tr>\n",
       "      <th>2</th>\n",
       "      <td>1</td>\n",
       "      <td>41</td>\n",
       "      <td>1</td>\n",
       "      <td>7</td>\n",
       "      <td>1</td>\n",
       "      <td>-0.013540</td>\n",
       "      <td>-0.031064</td>\n",
       "      <td>-0.223454</td>\n",
       "      <td>0.001080</td>\n",
       "      <td>0</td>\n",
       "    </tr>\n",
       "    <tr>\n",
       "      <th>3</th>\n",
       "      <td>0</td>\n",
       "      <td>41</td>\n",
       "      <td>1</td>\n",
       "      <td>63</td>\n",
       "      <td>2</td>\n",
       "      <td>-0.039419</td>\n",
       "      <td>-0.057107</td>\n",
       "      <td>-0.377797</td>\n",
       "      <td>-0.360670</td>\n",
       "      <td>0</td>\n",
       "    </tr>\n",
       "    <tr>\n",
       "      <th>4</th>\n",
       "      <td>1</td>\n",
       "      <td>9</td>\n",
       "      <td>1</td>\n",
       "      <td>30</td>\n",
       "      <td>0</td>\n",
       "      <td>-0.039454</td>\n",
       "      <td>-0.057134</td>\n",
       "      <td>-0.151161</td>\n",
       "      <td>-0.226828</td>\n",
       "      <td>0</td>\n",
       "    </tr>\n",
       "  </tbody>\n",
       "</table>\n",
       "</div>"
      ],
      "text/plain": [
       "   Gndr  State_Abrvtn  RUCA  Type  Place_Of_Srvc  Tot_Bene_Day_Srvcs  \\\n",
       "0     1            25     1    44              3            0.086846   \n",
       "1     1            19     1    73              0            0.138674   \n",
       "2     1            41     1     7              1           -0.013540   \n",
       "3     0            41     1    63              2           -0.039419   \n",
       "4     1             9     1    30              0           -0.039454   \n",
       "\n",
       "   Tot_Srvcs  Avg_Sbmtd_Chrg  Avg_Mdcr_Stdzd_Amt  eligibility  \n",
       "0   0.038814       -0.270365           -0.180985            0  \n",
       "1   0.135430       -0.241973           -0.414999            0  \n",
       "2  -0.031064       -0.223454            0.001080            0  \n",
       "3  -0.057107       -0.377797           -0.360670            0  \n",
       "4  -0.057134       -0.151161           -0.226828            0  "
      ]
     },
     "execution_count": 45,
     "metadata": {},
     "output_type": "execute_result"
    }
   ],
   "source": [
    "df_label.head()"
   ]
  },
  {
   "cell_type": "code",
   "execution_count": 46,
   "id": "000f6ed6",
   "metadata": {},
   "outputs": [],
   "source": [
    "df_label.to_csv('label.csv', index = False)"
   ]
  },
  {
   "cell_type": "markdown",
   "id": "c61cfe81",
   "metadata": {},
   "source": [
    "## One-hot encoding"
   ]
  },
  {
   "cell_type": "code",
   "execution_count": 47,
   "id": "f75c97a3",
   "metadata": {},
   "outputs": [],
   "source": [
    "df_reduced = df[categorical_columns+numerical_columns+target]"
   ]
  },
  {
   "cell_type": "code",
   "execution_count": 48,
   "id": "fd64a750",
   "metadata": {},
   "outputs": [
    {
     "data": {
      "text/plain": [
       "(1123589, 10)"
      ]
     },
     "execution_count": 48,
     "metadata": {},
     "output_type": "execute_result"
    }
   ],
   "source": [
    "df_reduced.shape"
   ]
  },
  {
   "cell_type": "code",
   "execution_count": 49,
   "id": "9815ebc2",
   "metadata": {},
   "outputs": [],
   "source": [
    "encoder = OneHotEncoder(sparse = False)"
   ]
  },
  {
   "cell_type": "code",
   "execution_count": 50,
   "id": "8b163cf8",
   "metadata": {},
   "outputs": [
    {
     "name": "stderr",
     "output_type": "stream",
     "text": [
      "C:\\Users\\ronal\\anaconda3\\lib\\site-packages\\sklearn\\utils\\deprecation.py:87: FutureWarning: Function get_feature_names is deprecated; get_feature_names is deprecated in 1.0 and will be removed in 1.2. Please use get_feature_names_out instead.\n",
      "  warnings.warn(msg, category=FutureWarning)\n"
     ]
    }
   ],
   "source": [
    "encoder.fit(df_reduced[categorical_columns])\n",
    "df_reduced_encoded = encoder.transform(df_reduced[categorical_columns])\n",
    "df_reduced_encoded_df = pd.DataFrame(df_reduced_encoded, columns=encoder.get_feature_names(categorical_columns))\n",
    "df_reduced_encoded_df.index = df_reduced.index"
   ]
  },
  {
   "cell_type": "code",
   "execution_count": 51,
   "id": "d8642677",
   "metadata": {},
   "outputs": [
    {
     "data": {
      "text/plain": [
       "(1123589, 194)"
      ]
     },
     "execution_count": 51,
     "metadata": {},
     "output_type": "execute_result"
    }
   ],
   "source": [
    "df_reduced_encoded_df.shape"
   ]
  },
  {
   "cell_type": "code",
   "execution_count": 52,
   "id": "cfe57961",
   "metadata": {},
   "outputs": [],
   "source": [
    "df_combined = df_reduced_encoded_df.join(data_num)"
   ]
  },
  {
   "cell_type": "code",
   "execution_count": 53,
   "id": "5f18391a",
   "metadata": {},
   "outputs": [],
   "source": [
    "df_combined = df_combined.drop(columns=['Tot_Benes', 'Avg_Mdcr_Alowd_Amt', 'Avg_Mdcr_Pymt_Amt'])"
   ]
  },
  {
   "cell_type": "code",
   "execution_count": 54,
   "id": "48954c99",
   "metadata": {},
   "outputs": [
    {
     "data": {
      "text/plain": [
       "(1123589, 199)"
      ]
     },
     "execution_count": 54,
     "metadata": {},
     "output_type": "execute_result"
    }
   ],
   "source": [
    "df_combined.shape"
   ]
  },
  {
   "cell_type": "code",
   "execution_count": 64,
   "id": "59a8624d",
   "metadata": {},
   "outputs": [],
   "source": [
    "df_combined = df[['NPI']].join(df_combined)"
   ]
  },
  {
   "cell_type": "code",
   "execution_count": 65,
   "id": "f1d6a4ae",
   "metadata": {},
   "outputs": [],
   "source": [
    "df_combined.to_csv('onehot.csv', index = False)"
   ]
  },
  {
   "cell_type": "code",
   "execution_count": null,
   "id": "570c2804",
   "metadata": {},
   "outputs": [],
   "source": []
  }
 ],
 "metadata": {
  "kernelspec": {
   "display_name": "Python 3 (ipykernel)",
   "language": "python",
   "name": "python3"
  },
  "language_info": {
   "codemirror_mode": {
    "name": "ipython",
    "version": 3
   },
   "file_extension": ".py",
   "mimetype": "text/x-python",
   "name": "python",
   "nbconvert_exporter": "python",
   "pygments_lexer": "ipython3",
   "version": "3.9.13"
  }
 },
 "nbformat": 4,
 "nbformat_minor": 5
}
