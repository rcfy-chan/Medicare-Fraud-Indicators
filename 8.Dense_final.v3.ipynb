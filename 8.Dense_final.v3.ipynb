{
 "cells": [
  {
   "cell_type": "code",
   "execution_count": 1,
   "id": "a162860f",
   "metadata": {},
   "outputs": [],
   "source": [
    "#Packages for data loading, data analysis, and data preparation\n",
    "import numpy as np\n",
    "import pandas as pd\n",
    "import seaborn as sns\n",
    "from imblearn.over_sampling import SMOTE\n",
    "\n",
    "#Packages for model evaluation and classification models\n",
    "from sklearn.model_selection import train_test_split, KFold, cross_val_score, GridSearchCV, cross_validate\n",
    "from sklearn.metrics import classification_report, confusion_matrix, accuracy_score, recall_score, roc_auc_score\n",
    "from sklearn.preprocessing import StandardScaler\n",
    "from sklearn.preprocessing import OneHotEncoder\n",
    "\n",
    "from pickle import dump\n",
    "from pickle import load\n",
    "\n",
    "import tensorflow as tf\n",
    "import keras\n",
    "import keras_tuner\n",
    "from keras import layers\n",
    "\n",
    "#correct the code for one format\n",
    "import matplotlib.pyplot as plt\n",
    "\n",
    "#pd.set_option('display.max_columns', None)"
   ]
  },
  {
   "cell_type": "code",
   "execution_count": 2,
   "id": "c77a93e8",
   "metadata": {},
   "outputs": [],
   "source": [
    "keras.utils.set_random_seed(1000)"
   ]
  },
  {
   "cell_type": "code",
   "execution_count": 3,
   "id": "c6726fb1",
   "metadata": {},
   "outputs": [],
   "source": [
    "df = pd.read_csv('onehot.csv')"
   ]
  },
  {
   "cell_type": "code",
   "execution_count": 4,
   "id": "b593ab61",
   "metadata": {},
   "outputs": [
    {
     "name": "stderr",
     "output_type": "stream",
     "text": [
      "C:\\Users\\ronal\\AppData\\Local\\Temp\\ipykernel_15400\\1965021019.py:1: DtypeWarning: Columns (2) have mixed types. Specify dtype option on import or set low_memory=False.\n",
      "  flag = pd.read_csv('flag.csv')\n"
     ]
    }
   ],
   "source": [
    "flag = pd.read_csv('flag.csv')\n",
    "flag.rename(columns={\"Rndrng_NPI\": \"NPI\"}, inplace = True)"
   ]
  },
  {
   "cell_type": "code",
   "execution_count": 5,
   "id": "4b8bad78",
   "metadata": {},
   "outputs": [],
   "source": [
    "merged_df = df.merge(flag[['NPI','flag', 'hcpcs_flag']], on='NPI', how='left')"
   ]
  },
  {
   "cell_type": "code",
   "execution_count": 6,
   "id": "5a245cdf",
   "metadata": {},
   "outputs": [],
   "source": [
    "merged_df['target'] = np.where((merged_df.eligibility == 1) | (merged_df.flag != 0) | (merged_df.hcpcs_flag != 0), 1, 0)\n"
   ]
  },
  {
   "cell_type": "code",
   "execution_count": 7,
   "id": "f9c06333",
   "metadata": {},
   "outputs": [],
   "source": [
    "df = merged_df.drop(columns = ['NPI', 'eligibility', 'flag', 'hcpcs_flag'], axis = 1)"
   ]
  },
  {
   "cell_type": "code",
   "execution_count": 8,
   "id": "c60387cd",
   "metadata": {},
   "outputs": [
    {
     "data": {
      "text/html": [
       "<div>\n",
       "<style scoped>\n",
       "    .dataframe tbody tr th:only-of-type {\n",
       "        vertical-align: middle;\n",
       "    }\n",
       "\n",
       "    .dataframe tbody tr th {\n",
       "        vertical-align: top;\n",
       "    }\n",
       "\n",
       "    .dataframe thead th {\n",
       "        text-align: right;\n",
       "    }\n",
       "</style>\n",
       "<table border=\"1\" class=\"dataframe\">\n",
       "  <thead>\n",
       "    <tr style=\"text-align: right;\">\n",
       "      <th></th>\n",
       "      <th>Gndr_F</th>\n",
       "      <th>Gndr_M</th>\n",
       "      <th>Gndr_O</th>\n",
       "      <th>State_Abrvtn_AA</th>\n",
       "      <th>State_Abrvtn_AE</th>\n",
       "      <th>State_Abrvtn_AK</th>\n",
       "      <th>State_Abrvtn_AL</th>\n",
       "      <th>State_Abrvtn_AP</th>\n",
       "      <th>State_Abrvtn_AR</th>\n",
       "      <th>State_Abrvtn_AS</th>\n",
       "      <th>...</th>\n",
       "      <th>Type_Vascular Surgery</th>\n",
       "      <th>Place_Of_Srvc_F</th>\n",
       "      <th>Place_Of_Srvc_F, O</th>\n",
       "      <th>Place_Of_Srvc_O</th>\n",
       "      <th>Place_Of_Srvc_O, F</th>\n",
       "      <th>Tot_Srvcs</th>\n",
       "      <th>Tot_Bene_Day_Srvcs</th>\n",
       "      <th>Avg_Sbmtd_Chrg</th>\n",
       "      <th>Avg_Mdcr_Stdzd_Amt</th>\n",
       "      <th>target</th>\n",
       "    </tr>\n",
       "  </thead>\n",
       "  <tbody>\n",
       "    <tr>\n",
       "      <th>0</th>\n",
       "      <td>0.0</td>\n",
       "      <td>1.0</td>\n",
       "      <td>0.0</td>\n",
       "      <td>0.0</td>\n",
       "      <td>0.0</td>\n",
       "      <td>0.0</td>\n",
       "      <td>0.0</td>\n",
       "      <td>0.0</td>\n",
       "      <td>0.0</td>\n",
       "      <td>0.0</td>\n",
       "      <td>...</td>\n",
       "      <td>0.0</td>\n",
       "      <td>0.0</td>\n",
       "      <td>0.0</td>\n",
       "      <td>0.0</td>\n",
       "      <td>1.0</td>\n",
       "      <td>0.038814</td>\n",
       "      <td>0.086846</td>\n",
       "      <td>-0.270365</td>\n",
       "      <td>-0.180985</td>\n",
       "      <td>0</td>\n",
       "    </tr>\n",
       "    <tr>\n",
       "      <th>1</th>\n",
       "      <td>0.0</td>\n",
       "      <td>1.0</td>\n",
       "      <td>0.0</td>\n",
       "      <td>0.0</td>\n",
       "      <td>0.0</td>\n",
       "      <td>0.0</td>\n",
       "      <td>0.0</td>\n",
       "      <td>0.0</td>\n",
       "      <td>0.0</td>\n",
       "      <td>0.0</td>\n",
       "      <td>...</td>\n",
       "      <td>0.0</td>\n",
       "      <td>1.0</td>\n",
       "      <td>0.0</td>\n",
       "      <td>0.0</td>\n",
       "      <td>0.0</td>\n",
       "      <td>0.135430</td>\n",
       "      <td>0.138674</td>\n",
       "      <td>-0.241973</td>\n",
       "      <td>-0.414999</td>\n",
       "      <td>0</td>\n",
       "    </tr>\n",
       "    <tr>\n",
       "      <th>2</th>\n",
       "      <td>0.0</td>\n",
       "      <td>1.0</td>\n",
       "      <td>0.0</td>\n",
       "      <td>0.0</td>\n",
       "      <td>0.0</td>\n",
       "      <td>0.0</td>\n",
       "      <td>0.0</td>\n",
       "      <td>0.0</td>\n",
       "      <td>0.0</td>\n",
       "      <td>0.0</td>\n",
       "      <td>...</td>\n",
       "      <td>0.0</td>\n",
       "      <td>0.0</td>\n",
       "      <td>1.0</td>\n",
       "      <td>0.0</td>\n",
       "      <td>0.0</td>\n",
       "      <td>-0.031064</td>\n",
       "      <td>-0.013540</td>\n",
       "      <td>-0.223454</td>\n",
       "      <td>0.001080</td>\n",
       "      <td>0</td>\n",
       "    </tr>\n",
       "    <tr>\n",
       "      <th>3</th>\n",
       "      <td>1.0</td>\n",
       "      <td>0.0</td>\n",
       "      <td>0.0</td>\n",
       "      <td>0.0</td>\n",
       "      <td>0.0</td>\n",
       "      <td>0.0</td>\n",
       "      <td>0.0</td>\n",
       "      <td>0.0</td>\n",
       "      <td>0.0</td>\n",
       "      <td>0.0</td>\n",
       "      <td>...</td>\n",
       "      <td>0.0</td>\n",
       "      <td>0.0</td>\n",
       "      <td>0.0</td>\n",
       "      <td>1.0</td>\n",
       "      <td>0.0</td>\n",
       "      <td>-0.057107</td>\n",
       "      <td>-0.039419</td>\n",
       "      <td>-0.377797</td>\n",
       "      <td>-0.360670</td>\n",
       "      <td>0</td>\n",
       "    </tr>\n",
       "    <tr>\n",
       "      <th>4</th>\n",
       "      <td>0.0</td>\n",
       "      <td>1.0</td>\n",
       "      <td>0.0</td>\n",
       "      <td>0.0</td>\n",
       "      <td>0.0</td>\n",
       "      <td>0.0</td>\n",
       "      <td>0.0</td>\n",
       "      <td>0.0</td>\n",
       "      <td>0.0</td>\n",
       "      <td>0.0</td>\n",
       "      <td>...</td>\n",
       "      <td>0.0</td>\n",
       "      <td>1.0</td>\n",
       "      <td>0.0</td>\n",
       "      <td>0.0</td>\n",
       "      <td>0.0</td>\n",
       "      <td>-0.057134</td>\n",
       "      <td>-0.039454</td>\n",
       "      <td>-0.151161</td>\n",
       "      <td>-0.226828</td>\n",
       "      <td>0</td>\n",
       "    </tr>\n",
       "  </tbody>\n",
       "</table>\n",
       "<p>5 rows × 199 columns</p>\n",
       "</div>"
      ],
      "text/plain": [
       "   Gndr_F  Gndr_M  Gndr_O  State_Abrvtn_AA  State_Abrvtn_AE  State_Abrvtn_AK  \\\n",
       "0     0.0     1.0     0.0              0.0              0.0              0.0   \n",
       "1     0.0     1.0     0.0              0.0              0.0              0.0   \n",
       "2     0.0     1.0     0.0              0.0              0.0              0.0   \n",
       "3     1.0     0.0     0.0              0.0              0.0              0.0   \n",
       "4     0.0     1.0     0.0              0.0              0.0              0.0   \n",
       "\n",
       "   State_Abrvtn_AL  State_Abrvtn_AP  State_Abrvtn_AR  State_Abrvtn_AS  ...  \\\n",
       "0              0.0              0.0              0.0              0.0  ...   \n",
       "1              0.0              0.0              0.0              0.0  ...   \n",
       "2              0.0              0.0              0.0              0.0  ...   \n",
       "3              0.0              0.0              0.0              0.0  ...   \n",
       "4              0.0              0.0              0.0              0.0  ...   \n",
       "\n",
       "   Type_Vascular Surgery  Place_Of_Srvc_F  Place_Of_Srvc_F, O  \\\n",
       "0                    0.0              0.0                 0.0   \n",
       "1                    0.0              1.0                 0.0   \n",
       "2                    0.0              0.0                 1.0   \n",
       "3                    0.0              0.0                 0.0   \n",
       "4                    0.0              1.0                 0.0   \n",
       "\n",
       "   Place_Of_Srvc_O  Place_Of_Srvc_O, F  Tot_Srvcs  Tot_Bene_Day_Srvcs  \\\n",
       "0              0.0                 1.0   0.038814            0.086846   \n",
       "1              0.0                 0.0   0.135430            0.138674   \n",
       "2              0.0                 0.0  -0.031064           -0.013540   \n",
       "3              1.0                 0.0  -0.057107           -0.039419   \n",
       "4              0.0                 0.0  -0.057134           -0.039454   \n",
       "\n",
       "   Avg_Sbmtd_Chrg  Avg_Mdcr_Stdzd_Amt  target  \n",
       "0       -0.270365           -0.180985       0  \n",
       "1       -0.241973           -0.414999       0  \n",
       "2       -0.223454            0.001080       0  \n",
       "3       -0.377797           -0.360670       0  \n",
       "4       -0.151161           -0.226828       0  \n",
       "\n",
       "[5 rows x 199 columns]"
      ]
     },
     "execution_count": 8,
     "metadata": {},
     "output_type": "execute_result"
    }
   ],
   "source": [
    "df.head()"
   ]
  },
  {
   "cell_type": "markdown",
   "id": "9b4607bd",
   "metadata": {},
   "source": [
    "# 20% Train and Test"
   ]
  },
  {
   "cell_type": "code",
   "execution_count": 9,
   "id": "d2b633ba",
   "metadata": {},
   "outputs": [],
   "source": [
    "X_train, X_test, y_train, y_test = train_test_split(df.drop(columns = ['target'], axis = 1), df.target, test_size=0.3, stratify = df.target, random_state=42)"
   ]
  },
  {
   "cell_type": "code",
   "execution_count": 10,
   "id": "9d36ea03",
   "metadata": {},
   "outputs": [],
   "source": [
    "X_val, X_test, y_val, y_test = train_test_split(X_test, y_test, test_size=0.5, stratify = y_test, random_state=42)"
   ]
  },
  {
   "cell_type": "code",
   "execution_count": 11,
   "id": "36510c3b",
   "metadata": {},
   "outputs": [
    {
     "name": "stdout",
     "output_type": "stream",
     "text": [
      "Wall time: 10min 22s\n"
     ]
    }
   ],
   "source": [
    "%%time\n",
    "smote = SMOTE(random_state=42)\n",
    "X_train_smote, y_train_smote = smote.fit_resample(X_train, y_train)"
   ]
  },
  {
   "cell_type": "markdown",
   "id": "b39cf52a",
   "metadata": {},
   "source": [
    "# Model "
   ]
  },
  {
   "cell_type": "code",
   "execution_count": 21,
   "id": "21771f1e",
   "metadata": {},
   "outputs": [
    {
     "name": "stdout",
     "output_type": "stream",
     "text": [
      "37235/37235 [==============================] - 71s 2ms/step - loss: 0.6028 - accuracy: 0.6714 - recall_2: 0.6328 - val_loss: 0.6710 - val_accuracy: 0.6387 - val_recall_2: 0.7028\n",
      "5267/5267 [==============================] - 6s 1ms/step - loss: 0.6729 - accuracy: 0.6374 - recall_2: 0.7016\n",
      "Test Accuracy: 0.6374\n",
      "Test Recall: 0.7016\n",
      "Wall time: 1min 19s\n"
     ]
    }
   ],
   "source": [
    "%%time\n",
    "model = keras.Sequential()\n",
    "model.add(layers.Dense(198))\n",
    "model.add(layers.BatchNormalization())\n",
    "model.add(layers.Dense(16, activation='relu', input_shape=(X_train.shape[1],)))\n",
    "model.add(layers.BatchNormalization())\n",
    "model.add(layers.Dense(160, activation='relu'))\n",
    "model.add(layers.Dense(1, activation=\"sigmoid\"))\n",
    "model.compile(\n",
    "    optimizer=keras.optimizers.Adam(learning_rate=0.01),\n",
    "    loss=\"binary_crossentropy\",\n",
    "    metrics=[\"accuracy\", keras.metrics.Recall()],\n",
    ")\n",
    "\n",
    "history = model.fit(X_train_smote, y_train_smote, epochs=1, validation_data=(X_val, y_val))\n",
    "test_loss, test_accuracy, test_recall = model.evaluate(X_test, y_test)\n",
    "\n",
    "print(f\"Test Accuracy: {test_accuracy:.4f}\")\n",
    "print(f\"Test Recall: {test_recall:.4f}\")"
   ]
  },
  {
   "cell_type": "code",
   "execution_count": 23,
   "id": "4ddc44c7",
   "metadata": {},
   "outputs": [
    {
     "data": {
      "image/png": "[encoded data removed]",
      "text/plain": [
       "<IPython.core.display.Image object>"
      ]
     },
     "execution_count": 23,
     "metadata": {},
     "output_type": "execute_result"
    }
   ],
   "source": [
    "keras.utils.plot_model(model, to_file='my_model.png', show_shapes=True)"
   ]
  },
  {
   "cell_type": "markdown",
   "id": "5b408445",
   "metadata": {},
   "source": [
    "# Model with old target"
   ]
  },
  {
   "cell_type": "code",
   "execution_count": 14,
   "id": "5a15fcfa",
   "metadata": {},
   "outputs": [],
   "source": [
    "df2 = pd.read_csv('onehot.csv')\n",
    "df2 = df2.drop(columns = ['NPI'], axis = 1)"
   ]
  },
  {
   "cell_type": "code",
   "execution_count": 15,
   "id": "83d5aa69",
   "metadata": {},
   "outputs": [
    {
     "data": {
      "text/html": [
       "<div>\n",
       "<style scoped>\n",
       "    .dataframe tbody tr th:only-of-type {\n",
       "        vertical-align: middle;\n",
       "    }\n",
       "\n",
       "    .dataframe tbody tr th {\n",
       "        vertical-align: top;\n",
       "    }\n",
       "\n",
       "    .dataframe thead th {\n",
       "        text-align: right;\n",
       "    }\n",
       "</style>\n",
       "<table border=\"1\" class=\"dataframe\">\n",
       "  <thead>\n",
       "    <tr style=\"text-align: right;\">\n",
       "      <th></th>\n",
       "      <th>Gndr_F</th>\n",
       "      <th>Gndr_M</th>\n",
       "      <th>Gndr_O</th>\n",
       "      <th>State_Abrvtn_AA</th>\n",
       "      <th>State_Abrvtn_AE</th>\n",
       "      <th>State_Abrvtn_AK</th>\n",
       "      <th>State_Abrvtn_AL</th>\n",
       "      <th>State_Abrvtn_AP</th>\n",
       "      <th>State_Abrvtn_AR</th>\n",
       "      <th>State_Abrvtn_AS</th>\n",
       "      <th>...</th>\n",
       "      <th>Type_Vascular Surgery</th>\n",
       "      <th>Place_Of_Srvc_F</th>\n",
       "      <th>Place_Of_Srvc_F, O</th>\n",
       "      <th>Place_Of_Srvc_O</th>\n",
       "      <th>Place_Of_Srvc_O, F</th>\n",
       "      <th>Tot_Srvcs</th>\n",
       "      <th>Tot_Bene_Day_Srvcs</th>\n",
       "      <th>Avg_Sbmtd_Chrg</th>\n",
       "      <th>Avg_Mdcr_Stdzd_Amt</th>\n",
       "      <th>eligibility</th>\n",
       "    </tr>\n",
       "  </thead>\n",
       "  <tbody>\n",
       "    <tr>\n",
       "      <th>0</th>\n",
       "      <td>0.0</td>\n",
       "      <td>1.0</td>\n",
       "      <td>0.0</td>\n",
       "      <td>0.0</td>\n",
       "      <td>0.0</td>\n",
       "      <td>0.0</td>\n",
       "      <td>0.0</td>\n",
       "      <td>0.0</td>\n",
       "      <td>0.0</td>\n",
       "      <td>0.0</td>\n",
       "      <td>...</td>\n",
       "      <td>0.0</td>\n",
       "      <td>0.0</td>\n",
       "      <td>0.0</td>\n",
       "      <td>0.0</td>\n",
       "      <td>1.0</td>\n",
       "      <td>0.038814</td>\n",
       "      <td>0.086846</td>\n",
       "      <td>-0.270365</td>\n",
       "      <td>-0.180985</td>\n",
       "      <td>0</td>\n",
       "    </tr>\n",
       "    <tr>\n",
       "      <th>1</th>\n",
       "      <td>0.0</td>\n",
       "      <td>1.0</td>\n",
       "      <td>0.0</td>\n",
       "      <td>0.0</td>\n",
       "      <td>0.0</td>\n",
       "      <td>0.0</td>\n",
       "      <td>0.0</td>\n",
       "      <td>0.0</td>\n",
       "      <td>0.0</td>\n",
       "      <td>0.0</td>\n",
       "      <td>...</td>\n",
       "      <td>0.0</td>\n",
       "      <td>1.0</td>\n",
       "      <td>0.0</td>\n",
       "      <td>0.0</td>\n",
       "      <td>0.0</td>\n",
       "      <td>0.135430</td>\n",
       "      <td>0.138674</td>\n",
       "      <td>-0.241973</td>\n",
       "      <td>-0.414999</td>\n",
       "      <td>0</td>\n",
       "    </tr>\n",
       "    <tr>\n",
       "      <th>2</th>\n",
       "      <td>0.0</td>\n",
       "      <td>1.0</td>\n",
       "      <td>0.0</td>\n",
       "      <td>0.0</td>\n",
       "      <td>0.0</td>\n",
       "      <td>0.0</td>\n",
       "      <td>0.0</td>\n",
       "      <td>0.0</td>\n",
       "      <td>0.0</td>\n",
       "      <td>0.0</td>\n",
       "      <td>...</td>\n",
       "      <td>0.0</td>\n",
       "      <td>0.0</td>\n",
       "      <td>1.0</td>\n",
       "      <td>0.0</td>\n",
       "      <td>0.0</td>\n",
       "      <td>-0.031064</td>\n",
       "      <td>-0.013540</td>\n",
       "      <td>-0.223454</td>\n",
       "      <td>0.001080</td>\n",
       "      <td>0</td>\n",
       "    </tr>\n",
       "    <tr>\n",
       "      <th>3</th>\n",
       "      <td>1.0</td>\n",
       "      <td>0.0</td>\n",
       "      <td>0.0</td>\n",
       "      <td>0.0</td>\n",
       "      <td>0.0</td>\n",
       "      <td>0.0</td>\n",
       "      <td>0.0</td>\n",
       "      <td>0.0</td>\n",
       "      <td>0.0</td>\n",
       "      <td>0.0</td>\n",
       "      <td>...</td>\n",
       "      <td>0.0</td>\n",
       "      <td>0.0</td>\n",
       "      <td>0.0</td>\n",
       "      <td>1.0</td>\n",
       "      <td>0.0</td>\n",
       "      <td>-0.057107</td>\n",
       "      <td>-0.039419</td>\n",
       "      <td>-0.377797</td>\n",
       "      <td>-0.360670</td>\n",
       "      <td>0</td>\n",
       "    </tr>\n",
       "    <tr>\n",
       "      <th>4</th>\n",
       "      <td>0.0</td>\n",
       "      <td>1.0</td>\n",
       "      <td>0.0</td>\n",
       "      <td>0.0</td>\n",
       "      <td>0.0</td>\n",
       "      <td>0.0</td>\n",
       "      <td>0.0</td>\n",
       "      <td>0.0</td>\n",
       "      <td>0.0</td>\n",
       "      <td>0.0</td>\n",
       "      <td>...</td>\n",
       "      <td>0.0</td>\n",
       "      <td>1.0</td>\n",
       "      <td>0.0</td>\n",
       "      <td>0.0</td>\n",
       "      <td>0.0</td>\n",
       "      <td>-0.057134</td>\n",
       "      <td>-0.039454</td>\n",
       "      <td>-0.151161</td>\n",
       "      <td>-0.226828</td>\n",
       "      <td>0</td>\n",
       "    </tr>\n",
       "  </tbody>\n",
       "</table>\n",
       "<p>5 rows × 199 columns</p>\n",
       "</div>"
      ],
      "text/plain": [
       "   Gndr_F  Gndr_M  Gndr_O  State_Abrvtn_AA  State_Abrvtn_AE  State_Abrvtn_AK  \\\n",
       "0     0.0     1.0     0.0              0.0              0.0              0.0   \n",
       "1     0.0     1.0     0.0              0.0              0.0              0.0   \n",
       "2     0.0     1.0     0.0              0.0              0.0              0.0   \n",
       "3     1.0     0.0     0.0              0.0              0.0              0.0   \n",
       "4     0.0     1.0     0.0              0.0              0.0              0.0   \n",
       "\n",
       "   State_Abrvtn_AL  State_Abrvtn_AP  State_Abrvtn_AR  State_Abrvtn_AS  ...  \\\n",
       "0              0.0              0.0              0.0              0.0  ...   \n",
       "1              0.0              0.0              0.0              0.0  ...   \n",
       "2              0.0              0.0              0.0              0.0  ...   \n",
       "3              0.0              0.0              0.0              0.0  ...   \n",
       "4              0.0              0.0              0.0              0.0  ...   \n",
       "\n",
       "   Type_Vascular Surgery  Place_Of_Srvc_F  Place_Of_Srvc_F, O  \\\n",
       "0                    0.0              0.0                 0.0   \n",
       "1                    0.0              1.0                 0.0   \n",
       "2                    0.0              0.0                 1.0   \n",
       "3                    0.0              0.0                 0.0   \n",
       "4                    0.0              1.0                 0.0   \n",
       "\n",
       "   Place_Of_Srvc_O  Place_Of_Srvc_O, F  Tot_Srvcs  Tot_Bene_Day_Srvcs  \\\n",
       "0              0.0                 1.0   0.038814            0.086846   \n",
       "1              0.0                 0.0   0.135430            0.138674   \n",
       "2              0.0                 0.0  -0.031064           -0.013540   \n",
       "3              1.0                 0.0  -0.057107           -0.039419   \n",
       "4              0.0                 0.0  -0.057134           -0.039454   \n",
       "\n",
       "   Avg_Sbmtd_Chrg  Avg_Mdcr_Stdzd_Amt  eligibility  \n",
       "0       -0.270365           -0.180985            0  \n",
       "1       -0.241973           -0.414999            0  \n",
       "2       -0.223454            0.001080            0  \n",
       "3       -0.377797           -0.360670            0  \n",
       "4       -0.151161           -0.226828            0  \n",
       "\n",
       "[5 rows x 199 columns]"
      ]
     },
     "execution_count": 15,
     "metadata": {},
     "output_type": "execute_result"
    }
   ],
   "source": [
    "df2.head()"
   ]
  },
  {
   "cell_type": "code",
   "execution_count": 16,
   "id": "0db2da31",
   "metadata": {},
   "outputs": [],
   "source": [
    "X_train1, X_test1, y_train1, y_test1 = train_test_split(df2.drop(columns = ['eligibility'], axis = 1), df2.eligibility, test_size=0.3, stratify = df2.eligibility, random_state=42)"
   ]
  },
  {
   "cell_type": "code",
   "execution_count": 17,
   "id": "832468ed",
   "metadata": {},
   "outputs": [],
   "source": [
    "X_val1, X_test1, y_val1, y_test1 = train_test_split(X_test1, y_test1, test_size=0.5, stratify = y_test1, random_state=42)"
   ]
  },
  {
   "cell_type": "code",
   "execution_count": 18,
   "id": "af7a1ef1",
   "metadata": {},
   "outputs": [
    {
     "name": "stdout",
     "output_type": "stream",
     "text": [
      "Wall time: 10.9 s\n"
     ]
    }
   ],
   "source": [
    "%%time\n",
    "smote = SMOTE(random_state=42)\n",
    "X_train_smote1, y_train_smote1 = smote.fit_resample(X_train1, y_train1)"
   ]
  },
  {
   "cell_type": "code",
   "execution_count": 22,
   "id": "19217b14",
   "metadata": {},
   "outputs": [
    {
     "name": "stdout",
     "output_type": "stream",
     "text": [
      "48745/48745 [==============================] - 91s 2ms/step - loss: 0.5218 - accuracy: 0.7249 - recall_3: 0.8065 - val_loss: 0.5102 - val_accuracy: 0.6645 - val_recall_3: 0.6163\n",
      "5267/5267 [==============================] - 6s 1ms/step - loss: 0.8324 - accuracy: 0.5412 - recall_2: 0.3750\n",
      "Test Accuracy: 0.5412\n",
      "Test Recall: 0.3750\n",
      "Wall time: 1min 39s\n"
     ]
    }
   ],
   "source": [
    "%%time\n",
    "model1 = keras.Sequential()\n",
    "model1.add(layers.Dense(198))\n",
    "model1.add(layers.BatchNormalization())\n",
    "model1.add(layers.Dense(16, activation='relu', input_shape=(X_train.shape[1],)))\n",
    "model1.add(layers.BatchNormalization())\n",
    "model1.add(layers.Dense(160, activation='relu'))\n",
    "model1.add(layers.Dense(1, activation=\"sigmoid\"))\n",
    "model1.compile(\n",
    "    optimizer=keras.optimizers.Adam(learning_rate=0.01),\n",
    "    loss=\"binary_crossentropy\",\n",
    "    metrics=[\"accuracy\", keras.metrics.Recall()],\n",
    ")\n",
    "\n",
    "history1 = model1.fit(X_train_smote1, y_train_smote1, epochs=1, validation_data=(X_val1, y_val1))\n",
    "test_loss1, test_accuracy1, test_recall1 = model.evaluate(X_test1, y_test1)\n",
    "\n",
    "print(f\"Test Accuracy: {test_accuracy1:.4f}\")\n",
    "print(f\"Test Recall: {test_recall1:.4f}\")"
   ]
  },
  {
   "cell_type": "code",
   "execution_count": 24,
   "id": "d0e52344",
   "metadata": {},
   "outputs": [
    {
     "data": {
      "image/png": "[encoded data removed]",
      "text/plain": [
       "<IPython.core.display.Image object>"
      ]
     },
     "execution_count": 24,
     "metadata": {},
     "output_type": "execute_result"
    }
   ],
   "source": [
    "keras.utils.plot_model(model1, to_file='my_model.png', show_shapes=True)"
   ]
  },
  {
   "cell_type": "code",
   "execution_count": null,
   "id": "ab9aed2c",
   "metadata": {},
   "outputs": [],
   "source": []
  }
 ],
 "metadata": {
  "kernelspec": {
   "display_name": "Python 3 (ipykernel)",
   "language": "python",
   "name": "python3"
  },
  "language_info": {
   "codemirror_mode": {
    "name": "ipython",
    "version": 3
   },
   "file_extension": ".py",
   "mimetype": "text/x-python",
   "name": "python",
   "nbconvert_exporter": "python",
   "pygments_lexer": "ipython3",
   "version": "3.9.13"
  }
 },
 "nbformat": 4,
 "nbformat_minor": 5
}
